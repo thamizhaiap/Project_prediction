{
 "cells": [
  {
   "cell_type": "code",
   "execution_count": 1,
   "metadata": {},
   "outputs": [],
   "source": [
    "import pandas as pd\n",
    "import numpy as np\n",
    "from matplotlib import pyplot"
   ]
  },
  {
   "cell_type": "code",
   "execution_count": 92,
   "metadata": {},
   "outputs": [],
   "source": [
    "import warnings\n",
    "warnings. filterwarnings('ignore')"
   ]
  },
  {
   "cell_type": "code",
   "execution_count": 2,
   "metadata": {},
   "outputs": [],
   "source": [
    "df = pd.read_csv(\"ks-projects-201801.csv\", parse_dates=['deadline', 'launched'])"
   ]
  },
  {
   "cell_type": "code",
   "execution_count": 3,
   "metadata": {},
   "outputs": [
    {
     "data": {
      "text/html": [
       "<div>\n",
       "<style scoped>\n",
       "    .dataframe tbody tr th:only-of-type {\n",
       "        vertical-align: middle;\n",
       "    }\n",
       "\n",
       "    .dataframe tbody tr th {\n",
       "        vertical-align: top;\n",
       "    }\n",
       "\n",
       "    .dataframe thead th {\n",
       "        text-align: right;\n",
       "    }\n",
       "</style>\n",
       "<table border=\"1\" class=\"dataframe\">\n",
       "  <thead>\n",
       "    <tr style=\"text-align: right;\">\n",
       "      <th></th>\n",
       "      <th>ID</th>\n",
       "      <th>name</th>\n",
       "      <th>category</th>\n",
       "      <th>main_category</th>\n",
       "      <th>currency</th>\n",
       "      <th>deadline</th>\n",
       "      <th>goal</th>\n",
       "      <th>launched</th>\n",
       "      <th>pledged</th>\n",
       "      <th>state</th>\n",
       "      <th>backers</th>\n",
       "      <th>country</th>\n",
       "      <th>usd pledged</th>\n",
       "      <th>usd_pledged_real</th>\n",
       "      <th>usd_goal_real</th>\n",
       "    </tr>\n",
       "  </thead>\n",
       "  <tbody>\n",
       "    <tr>\n",
       "      <th>0</th>\n",
       "      <td>1000002330</td>\n",
       "      <td>The Songs of Adelaide &amp; Abullah</td>\n",
       "      <td>Poetry</td>\n",
       "      <td>Publishing</td>\n",
       "      <td>GBP</td>\n",
       "      <td>2015-10-09</td>\n",
       "      <td>1000.0</td>\n",
       "      <td>2015-08-11 12:12:28</td>\n",
       "      <td>0.0</td>\n",
       "      <td>failed</td>\n",
       "      <td>0</td>\n",
       "      <td>GB</td>\n",
       "      <td>0.0</td>\n",
       "      <td>0.0</td>\n",
       "      <td>1533.95</td>\n",
       "    </tr>\n",
       "    <tr>\n",
       "      <th>1</th>\n",
       "      <td>1000003930</td>\n",
       "      <td>Greeting From Earth: ZGAC Arts Capsule For ET</td>\n",
       "      <td>Narrative Film</td>\n",
       "      <td>Film &amp; Video</td>\n",
       "      <td>USD</td>\n",
       "      <td>2017-11-01</td>\n",
       "      <td>30000.0</td>\n",
       "      <td>2017-09-02 04:43:57</td>\n",
       "      <td>2421.0</td>\n",
       "      <td>failed</td>\n",
       "      <td>15</td>\n",
       "      <td>US</td>\n",
       "      <td>100.0</td>\n",
       "      <td>2421.0</td>\n",
       "      <td>30000.00</td>\n",
       "    </tr>\n",
       "    <tr>\n",
       "      <th>2</th>\n",
       "      <td>1000004038</td>\n",
       "      <td>Where is Hank?</td>\n",
       "      <td>Narrative Film</td>\n",
       "      <td>Film &amp; Video</td>\n",
       "      <td>USD</td>\n",
       "      <td>2013-02-26</td>\n",
       "      <td>45000.0</td>\n",
       "      <td>2013-01-12 00:20:50</td>\n",
       "      <td>220.0</td>\n",
       "      <td>failed</td>\n",
       "      <td>3</td>\n",
       "      <td>US</td>\n",
       "      <td>220.0</td>\n",
       "      <td>220.0</td>\n",
       "      <td>45000.00</td>\n",
       "    </tr>\n",
       "    <tr>\n",
       "      <th>3</th>\n",
       "      <td>1000007540</td>\n",
       "      <td>ToshiCapital Rekordz Needs Help to Complete Album</td>\n",
       "      <td>Music</td>\n",
       "      <td>Music</td>\n",
       "      <td>USD</td>\n",
       "      <td>2012-04-16</td>\n",
       "      <td>5000.0</td>\n",
       "      <td>2012-03-17 03:24:11</td>\n",
       "      <td>1.0</td>\n",
       "      <td>failed</td>\n",
       "      <td>1</td>\n",
       "      <td>US</td>\n",
       "      <td>1.0</td>\n",
       "      <td>1.0</td>\n",
       "      <td>5000.00</td>\n",
       "    </tr>\n",
       "    <tr>\n",
       "      <th>4</th>\n",
       "      <td>1000011046</td>\n",
       "      <td>Community Film Project: The Art of Neighborhoo...</td>\n",
       "      <td>Film &amp; Video</td>\n",
       "      <td>Film &amp; Video</td>\n",
       "      <td>USD</td>\n",
       "      <td>2015-08-29</td>\n",
       "      <td>19500.0</td>\n",
       "      <td>2015-07-04 08:35:03</td>\n",
       "      <td>1283.0</td>\n",
       "      <td>canceled</td>\n",
       "      <td>14</td>\n",
       "      <td>US</td>\n",
       "      <td>1283.0</td>\n",
       "      <td>1283.0</td>\n",
       "      <td>19500.00</td>\n",
       "    </tr>\n",
       "  </tbody>\n",
       "</table>\n",
       "</div>"
      ],
      "text/plain": [
       "           ID                                               name  \\\n",
       "0  1000002330                    The Songs of Adelaide & Abullah   \n",
       "1  1000003930      Greeting From Earth: ZGAC Arts Capsule For ET   \n",
       "2  1000004038                                     Where is Hank?   \n",
       "3  1000007540  ToshiCapital Rekordz Needs Help to Complete Album   \n",
       "4  1000011046  Community Film Project: The Art of Neighborhoo...   \n",
       "\n",
       "         category main_category currency   deadline     goal  \\\n",
       "0          Poetry    Publishing      GBP 2015-10-09   1000.0   \n",
       "1  Narrative Film  Film & Video      USD 2017-11-01  30000.0   \n",
       "2  Narrative Film  Film & Video      USD 2013-02-26  45000.0   \n",
       "3           Music         Music      USD 2012-04-16   5000.0   \n",
       "4    Film & Video  Film & Video      USD 2015-08-29  19500.0   \n",
       "\n",
       "             launched  pledged     state  backers country  usd pledged  \\\n",
       "0 2015-08-11 12:12:28      0.0    failed        0      GB          0.0   \n",
       "1 2017-09-02 04:43:57   2421.0    failed       15      US        100.0   \n",
       "2 2013-01-12 00:20:50    220.0    failed        3      US        220.0   \n",
       "3 2012-03-17 03:24:11      1.0    failed        1      US          1.0   \n",
       "4 2015-07-04 08:35:03   1283.0  canceled       14      US       1283.0   \n",
       "\n",
       "   usd_pledged_real  usd_goal_real  \n",
       "0               0.0        1533.95  \n",
       "1            2421.0       30000.00  \n",
       "2             220.0       45000.00  \n",
       "3               1.0        5000.00  \n",
       "4            1283.0       19500.00  "
      ]
     },
     "execution_count": 3,
     "metadata": {},
     "output_type": "execute_result"
    }
   ],
   "source": [
    "df.head()"
   ]
  },
  {
   "cell_type": "code",
   "execution_count": 4,
   "metadata": {},
   "outputs": [
    {
     "data": {
      "text/plain": [
       "(378661, 15)"
      ]
     },
     "execution_count": 4,
     "metadata": {},
     "output_type": "execute_result"
    }
   ],
   "source": [
    "df.shape"
   ]
  },
  {
   "cell_type": "code",
   "execution_count": 5,
   "metadata": {
    "scrolled": true
   },
   "outputs": [
    {
     "data": {
      "text/plain": [
       "Index(['ID', 'name', 'category', 'main_category', 'currency', 'deadline',\n",
       "       'goal', 'launched', 'pledged', 'state', 'backers', 'country',\n",
       "       'usd pledged', 'usd_pledged_real', 'usd_goal_real'],\n",
       "      dtype='object')"
      ]
     },
     "execution_count": 5,
     "metadata": {},
     "output_type": "execute_result"
    }
   ],
   "source": [
    "df.columns"
   ]
  },
  {
   "cell_type": "code",
   "execution_count": 6,
   "metadata": {},
   "outputs": [
    {
     "name": "stdout",
     "output_type": "stream",
     "text": [
      "<class 'pandas.core.frame.DataFrame'>\n",
      "RangeIndex: 378661 entries, 0 to 378660\n",
      "Data columns (total 15 columns):\n",
      " #   Column            Non-Null Count   Dtype         \n",
      "---  ------            --------------   -----         \n",
      " 0   ID                378661 non-null  int64         \n",
      " 1   name              378657 non-null  object        \n",
      " 2   category          378661 non-null  object        \n",
      " 3   main_category     378661 non-null  object        \n",
      " 4   currency          378661 non-null  object        \n",
      " 5   deadline          378661 non-null  datetime64[ns]\n",
      " 6   goal              378661 non-null  float64       \n",
      " 7   launched          378661 non-null  datetime64[ns]\n",
      " 8   pledged           378661 non-null  float64       \n",
      " 9   state             378661 non-null  object        \n",
      " 10  backers           378661 non-null  int64         \n",
      " 11  country           378661 non-null  object        \n",
      " 12  usd pledged       374864 non-null  float64       \n",
      " 13  usd_pledged_real  378661 non-null  float64       \n",
      " 14  usd_goal_real     378661 non-null  float64       \n",
      "dtypes: datetime64[ns](2), float64(5), int64(2), object(6)\n",
      "memory usage: 43.3+ MB\n"
     ]
    }
   ],
   "source": [
    "df.info()"
   ]
  },
  {
   "cell_type": "code",
   "execution_count": 7,
   "metadata": {},
   "outputs": [
    {
     "data": {
      "text/plain": [
       "['ID',\n",
       " 'name',\n",
       " 'category',\n",
       " 'main_category',\n",
       " 'currency',\n",
       " 'deadline',\n",
       " 'goal',\n",
       " 'launched',\n",
       " 'pledged',\n",
       " 'state',\n",
       " 'backers',\n",
       " 'country',\n",
       " 'usd pledged',\n",
       " 'usd_pledged_real',\n",
       " 'usd_goal_real']"
      ]
     },
     "execution_count": 7,
     "metadata": {},
     "output_type": "execute_result"
    }
   ],
   "source": [
    "list(df.columns)"
   ]
  },
  {
   "cell_type": "code",
   "execution_count": 8,
   "metadata": {},
   "outputs": [
    {
     "data": {
      "text/html": [
       "<div>\n",
       "<style scoped>\n",
       "    .dataframe tbody tr th:only-of-type {\n",
       "        vertical-align: middle;\n",
       "    }\n",
       "\n",
       "    .dataframe tbody tr th {\n",
       "        vertical-align: top;\n",
       "    }\n",
       "\n",
       "    .dataframe thead th {\n",
       "        text-align: right;\n",
       "    }\n",
       "</style>\n",
       "<table border=\"1\" class=\"dataframe\">\n",
       "  <thead>\n",
       "    <tr style=\"text-align: right;\">\n",
       "      <th></th>\n",
       "      <th>ID</th>\n",
       "      <th>name</th>\n",
       "      <th>category</th>\n",
       "      <th>main_category</th>\n",
       "      <th>currency</th>\n",
       "      <th>deadline</th>\n",
       "      <th>goal</th>\n",
       "      <th>launched</th>\n",
       "      <th>pledged</th>\n",
       "      <th>state</th>\n",
       "      <th>backers</th>\n",
       "      <th>country</th>\n",
       "      <th>usd pledged</th>\n",
       "      <th>usd_pledged_real</th>\n",
       "      <th>usd_goal_real</th>\n",
       "    </tr>\n",
       "  </thead>\n",
       "  <tbody>\n",
       "    <tr>\n",
       "      <th>0</th>\n",
       "      <td>1000002330</td>\n",
       "      <td>The Songs of Adelaide &amp; Abullah</td>\n",
       "      <td>Poetry</td>\n",
       "      <td>Publishing</td>\n",
       "      <td>GBP</td>\n",
       "      <td>2015-10-09</td>\n",
       "      <td>1000.0</td>\n",
       "      <td>2015-08-11 12:12:28</td>\n",
       "      <td>0.0</td>\n",
       "      <td>failed</td>\n",
       "      <td>0</td>\n",
       "      <td>GB</td>\n",
       "      <td>0.0</td>\n",
       "      <td>0.0</td>\n",
       "      <td>1533.95</td>\n",
       "    </tr>\n",
       "    <tr>\n",
       "      <th>1</th>\n",
       "      <td>1000003930</td>\n",
       "      <td>Greeting From Earth: ZGAC Arts Capsule For ET</td>\n",
       "      <td>Narrative Film</td>\n",
       "      <td>Film &amp; Video</td>\n",
       "      <td>USD</td>\n",
       "      <td>2017-11-01</td>\n",
       "      <td>30000.0</td>\n",
       "      <td>2017-09-02 04:43:57</td>\n",
       "      <td>2421.0</td>\n",
       "      <td>failed</td>\n",
       "      <td>15</td>\n",
       "      <td>US</td>\n",
       "      <td>100.0</td>\n",
       "      <td>2421.0</td>\n",
       "      <td>30000.00</td>\n",
       "    </tr>\n",
       "    <tr>\n",
       "      <th>2</th>\n",
       "      <td>1000004038</td>\n",
       "      <td>Where is Hank?</td>\n",
       "      <td>Narrative Film</td>\n",
       "      <td>Film &amp; Video</td>\n",
       "      <td>USD</td>\n",
       "      <td>2013-02-26</td>\n",
       "      <td>45000.0</td>\n",
       "      <td>2013-01-12 00:20:50</td>\n",
       "      <td>220.0</td>\n",
       "      <td>failed</td>\n",
       "      <td>3</td>\n",
       "      <td>US</td>\n",
       "      <td>220.0</td>\n",
       "      <td>220.0</td>\n",
       "      <td>45000.00</td>\n",
       "    </tr>\n",
       "    <tr>\n",
       "      <th>3</th>\n",
       "      <td>1000007540</td>\n",
       "      <td>ToshiCapital Rekordz Needs Help to Complete Album</td>\n",
       "      <td>Music</td>\n",
       "      <td>Music</td>\n",
       "      <td>USD</td>\n",
       "      <td>2012-04-16</td>\n",
       "      <td>5000.0</td>\n",
       "      <td>2012-03-17 03:24:11</td>\n",
       "      <td>1.0</td>\n",
       "      <td>failed</td>\n",
       "      <td>1</td>\n",
       "      <td>US</td>\n",
       "      <td>1.0</td>\n",
       "      <td>1.0</td>\n",
       "      <td>5000.00</td>\n",
       "    </tr>\n",
       "    <tr>\n",
       "      <th>4</th>\n",
       "      <td>1000011046</td>\n",
       "      <td>Community Film Project: The Art of Neighborhoo...</td>\n",
       "      <td>Film &amp; Video</td>\n",
       "      <td>Film &amp; Video</td>\n",
       "      <td>USD</td>\n",
       "      <td>2015-08-29</td>\n",
       "      <td>19500.0</td>\n",
       "      <td>2015-07-04 08:35:03</td>\n",
       "      <td>1283.0</td>\n",
       "      <td>canceled</td>\n",
       "      <td>14</td>\n",
       "      <td>US</td>\n",
       "      <td>1283.0</td>\n",
       "      <td>1283.0</td>\n",
       "      <td>19500.00</td>\n",
       "    </tr>\n",
       "  </tbody>\n",
       "</table>\n",
       "</div>"
      ],
      "text/plain": [
       "           ID                                               name  \\\n",
       "0  1000002330                    The Songs of Adelaide & Abullah   \n",
       "1  1000003930      Greeting From Earth: ZGAC Arts Capsule For ET   \n",
       "2  1000004038                                     Where is Hank?   \n",
       "3  1000007540  ToshiCapital Rekordz Needs Help to Complete Album   \n",
       "4  1000011046  Community Film Project: The Art of Neighborhoo...   \n",
       "\n",
       "         category main_category currency   deadline     goal  \\\n",
       "0          Poetry    Publishing      GBP 2015-10-09   1000.0   \n",
       "1  Narrative Film  Film & Video      USD 2017-11-01  30000.0   \n",
       "2  Narrative Film  Film & Video      USD 2013-02-26  45000.0   \n",
       "3           Music         Music      USD 2012-04-16   5000.0   \n",
       "4    Film & Video  Film & Video      USD 2015-08-29  19500.0   \n",
       "\n",
       "             launched  pledged     state  backers country  usd pledged  \\\n",
       "0 2015-08-11 12:12:28      0.0    failed        0      GB          0.0   \n",
       "1 2017-09-02 04:43:57   2421.0    failed       15      US        100.0   \n",
       "2 2013-01-12 00:20:50    220.0    failed        3      US        220.0   \n",
       "3 2012-03-17 03:24:11      1.0    failed        1      US          1.0   \n",
       "4 2015-07-04 08:35:03   1283.0  canceled       14      US       1283.0   \n",
       "\n",
       "   usd_pledged_real  usd_goal_real  \n",
       "0               0.0        1533.95  \n",
       "1            2421.0       30000.00  \n",
       "2             220.0       45000.00  \n",
       "3               1.0        5000.00  \n",
       "4            1283.0       19500.00  "
      ]
     },
     "execution_count": 8,
     "metadata": {},
     "output_type": "execute_result"
    }
   ],
   "source": [
    "pd.set_option('display.max_columns', None)\n",
    "df.head()"
   ]
  },
  {
   "cell_type": "code",
   "execution_count": 9,
   "metadata": {},
   "outputs": [
    {
     "data": {
      "text/plain": [
       "failed        197719\n",
       "successful    133956\n",
       "canceled       38779\n",
       "undefined       3562\n",
       "live            2799\n",
       "suspended       1846\n",
       "Name: state, dtype: int64"
      ]
     },
     "execution_count": 9,
     "metadata": {},
     "output_type": "execute_result"
    }
   ],
   "source": [
    "df.state.value_counts()"
   ]
  },
  {
   "cell_type": "code",
   "execution_count": 10,
   "metadata": {},
   "outputs": [],
   "source": [
    "# There are 2799 live projects which will labeled in future. Our interest is to predict failed or successful projects"
   ]
  },
  {
   "cell_type": "code",
   "execution_count": 11,
   "metadata": {
    "scrolled": false
   },
   "outputs": [
    {
     "name": "stdout",
     "output_type": "stream",
     "text": [
      "Before droping live project, shape of the dataset (378661, 15)\n",
      "After droping live project, shape of the dataset (375862, 15)\n"
     ]
    }
   ],
   "source": [
    "# drop live projects\n",
    "print('Before droping live project, shape of the dataset',df.shape)\n",
    "df1 = df.query('state != \"live\"')\n",
    "print('After droping live project, shape of the dataset',df1.shape)"
   ]
  },
  {
   "cell_type": "code",
   "execution_count": 12,
   "metadata": {},
   "outputs": [],
   "source": [
    "# group the data into successful and not successful\n",
    "df1 = df1.assign(success = (df1['state'] == 'successful').astype(int))"
   ]
  },
  {
   "cell_type": "code",
   "execution_count": 13,
   "metadata": {},
   "outputs": [
    {
     "data": {
      "text/plain": [
       "0    241906\n",
       "1    133956\n",
       "Name: success, dtype: int64"
      ]
     },
     "execution_count": 13,
     "metadata": {},
     "output_type": "execute_result"
    }
   ],
   "source": [
    "df1['success'].value_counts()"
   ]
  },
  {
   "cell_type": "code",
   "execution_count": 14,
   "metadata": {},
   "outputs": [
    {
     "data": {
      "text/plain": [
       "0    0.643603\n",
       "1    0.356397\n",
       "Name: success, dtype: float64"
      ]
     },
     "execution_count": 14,
     "metadata": {},
     "output_type": "execute_result"
    }
   ],
   "source": [
    "df1['success'].value_counts(normalize=True)"
   ]
  },
  {
   "cell_type": "code",
   "execution_count": 15,
   "metadata": {},
   "outputs": [
    {
     "data": {
      "text/plain": [
       "Timestamp('1970-01-01 01:00:00')"
      ]
     },
     "execution_count": 15,
     "metadata": {},
     "output_type": "execute_result"
    }
   ],
   "source": [
    "df1['launched'].min()"
   ]
  },
  {
   "cell_type": "code",
   "execution_count": 16,
   "metadata": {},
   "outputs": [
    {
     "data": {
      "text/plain": [
       "Timestamp('2018-01-02 03:05:10')"
      ]
     },
     "execution_count": 16,
     "metadata": {},
     "output_type": "execute_result"
    }
   ],
   "source": [
    "df1['launched'].max()"
   ]
  },
  {
   "cell_type": "code",
   "execution_count": 17,
   "metadata": {},
   "outputs": [],
   "source": [
    "df1 = df1.assign(hour = df.launched.dt.hour, \n",
    "                 day = df.launched.dt.day, \n",
    "                 month = df.launched.dt.month, \n",
    "                 year = df.launched.dt.year)"
   ]
  },
  {
   "cell_type": "code",
   "execution_count": 18,
   "metadata": {
    "scrolled": true
   },
   "outputs": [
    {
     "data": {
      "text/html": [
       "<div>\n",
       "<style scoped>\n",
       "    .dataframe tbody tr th:only-of-type {\n",
       "        vertical-align: middle;\n",
       "    }\n",
       "\n",
       "    .dataframe tbody tr th {\n",
       "        vertical-align: top;\n",
       "    }\n",
       "\n",
       "    .dataframe thead th {\n",
       "        text-align: right;\n",
       "    }\n",
       "</style>\n",
       "<table border=\"1\" class=\"dataframe\">\n",
       "  <thead>\n",
       "    <tr style=\"text-align: right;\">\n",
       "      <th></th>\n",
       "      <th>ID</th>\n",
       "      <th>name</th>\n",
       "      <th>category</th>\n",
       "      <th>main_category</th>\n",
       "      <th>currency</th>\n",
       "      <th>deadline</th>\n",
       "      <th>goal</th>\n",
       "      <th>launched</th>\n",
       "      <th>pledged</th>\n",
       "      <th>state</th>\n",
       "      <th>backers</th>\n",
       "      <th>country</th>\n",
       "      <th>usd pledged</th>\n",
       "      <th>usd_pledged_real</th>\n",
       "      <th>usd_goal_real</th>\n",
       "      <th>success</th>\n",
       "      <th>hour</th>\n",
       "      <th>day</th>\n",
       "      <th>month</th>\n",
       "      <th>year</th>\n",
       "    </tr>\n",
       "  </thead>\n",
       "  <tbody>\n",
       "    <tr>\n",
       "      <th>0</th>\n",
       "      <td>1000002330</td>\n",
       "      <td>The Songs of Adelaide &amp; Abullah</td>\n",
       "      <td>Poetry</td>\n",
       "      <td>Publishing</td>\n",
       "      <td>GBP</td>\n",
       "      <td>2015-10-09</td>\n",
       "      <td>1000.0</td>\n",
       "      <td>2015-08-11 12:12:28</td>\n",
       "      <td>0.0</td>\n",
       "      <td>failed</td>\n",
       "      <td>0</td>\n",
       "      <td>GB</td>\n",
       "      <td>0.0</td>\n",
       "      <td>0.0</td>\n",
       "      <td>1533.95</td>\n",
       "      <td>0</td>\n",
       "      <td>12</td>\n",
       "      <td>11</td>\n",
       "      <td>8</td>\n",
       "      <td>2015</td>\n",
       "    </tr>\n",
       "    <tr>\n",
       "      <th>1</th>\n",
       "      <td>1000003930</td>\n",
       "      <td>Greeting From Earth: ZGAC Arts Capsule For ET</td>\n",
       "      <td>Narrative Film</td>\n",
       "      <td>Film &amp; Video</td>\n",
       "      <td>USD</td>\n",
       "      <td>2017-11-01</td>\n",
       "      <td>30000.0</td>\n",
       "      <td>2017-09-02 04:43:57</td>\n",
       "      <td>2421.0</td>\n",
       "      <td>failed</td>\n",
       "      <td>15</td>\n",
       "      <td>US</td>\n",
       "      <td>100.0</td>\n",
       "      <td>2421.0</td>\n",
       "      <td>30000.00</td>\n",
       "      <td>0</td>\n",
       "      <td>4</td>\n",
       "      <td>2</td>\n",
       "      <td>9</td>\n",
       "      <td>2017</td>\n",
       "    </tr>\n",
       "    <tr>\n",
       "      <th>2</th>\n",
       "      <td>1000004038</td>\n",
       "      <td>Where is Hank?</td>\n",
       "      <td>Narrative Film</td>\n",
       "      <td>Film &amp; Video</td>\n",
       "      <td>USD</td>\n",
       "      <td>2013-02-26</td>\n",
       "      <td>45000.0</td>\n",
       "      <td>2013-01-12 00:20:50</td>\n",
       "      <td>220.0</td>\n",
       "      <td>failed</td>\n",
       "      <td>3</td>\n",
       "      <td>US</td>\n",
       "      <td>220.0</td>\n",
       "      <td>220.0</td>\n",
       "      <td>45000.00</td>\n",
       "      <td>0</td>\n",
       "      <td>0</td>\n",
       "      <td>12</td>\n",
       "      <td>1</td>\n",
       "      <td>2013</td>\n",
       "    </tr>\n",
       "    <tr>\n",
       "      <th>3</th>\n",
       "      <td>1000007540</td>\n",
       "      <td>ToshiCapital Rekordz Needs Help to Complete Album</td>\n",
       "      <td>Music</td>\n",
       "      <td>Music</td>\n",
       "      <td>USD</td>\n",
       "      <td>2012-04-16</td>\n",
       "      <td>5000.0</td>\n",
       "      <td>2012-03-17 03:24:11</td>\n",
       "      <td>1.0</td>\n",
       "      <td>failed</td>\n",
       "      <td>1</td>\n",
       "      <td>US</td>\n",
       "      <td>1.0</td>\n",
       "      <td>1.0</td>\n",
       "      <td>5000.00</td>\n",
       "      <td>0</td>\n",
       "      <td>3</td>\n",
       "      <td>17</td>\n",
       "      <td>3</td>\n",
       "      <td>2012</td>\n",
       "    </tr>\n",
       "    <tr>\n",
       "      <th>4</th>\n",
       "      <td>1000011046</td>\n",
       "      <td>Community Film Project: The Art of Neighborhoo...</td>\n",
       "      <td>Film &amp; Video</td>\n",
       "      <td>Film &amp; Video</td>\n",
       "      <td>USD</td>\n",
       "      <td>2015-08-29</td>\n",
       "      <td>19500.0</td>\n",
       "      <td>2015-07-04 08:35:03</td>\n",
       "      <td>1283.0</td>\n",
       "      <td>canceled</td>\n",
       "      <td>14</td>\n",
       "      <td>US</td>\n",
       "      <td>1283.0</td>\n",
       "      <td>1283.0</td>\n",
       "      <td>19500.00</td>\n",
       "      <td>0</td>\n",
       "      <td>8</td>\n",
       "      <td>4</td>\n",
       "      <td>7</td>\n",
       "      <td>2015</td>\n",
       "    </tr>\n",
       "  </tbody>\n",
       "</table>\n",
       "</div>"
      ],
      "text/plain": [
       "           ID                                               name  \\\n",
       "0  1000002330                    The Songs of Adelaide & Abullah   \n",
       "1  1000003930      Greeting From Earth: ZGAC Arts Capsule For ET   \n",
       "2  1000004038                                     Where is Hank?   \n",
       "3  1000007540  ToshiCapital Rekordz Needs Help to Complete Album   \n",
       "4  1000011046  Community Film Project: The Art of Neighborhoo...   \n",
       "\n",
       "         category main_category currency   deadline     goal  \\\n",
       "0          Poetry    Publishing      GBP 2015-10-09   1000.0   \n",
       "1  Narrative Film  Film & Video      USD 2017-11-01  30000.0   \n",
       "2  Narrative Film  Film & Video      USD 2013-02-26  45000.0   \n",
       "3           Music         Music      USD 2012-04-16   5000.0   \n",
       "4    Film & Video  Film & Video      USD 2015-08-29  19500.0   \n",
       "\n",
       "             launched  pledged     state  backers country  usd pledged  \\\n",
       "0 2015-08-11 12:12:28      0.0    failed        0      GB          0.0   \n",
       "1 2017-09-02 04:43:57   2421.0    failed       15      US        100.0   \n",
       "2 2013-01-12 00:20:50    220.0    failed        3      US        220.0   \n",
       "3 2012-03-17 03:24:11      1.0    failed        1      US          1.0   \n",
       "4 2015-07-04 08:35:03   1283.0  canceled       14      US       1283.0   \n",
       "\n",
       "   usd_pledged_real  usd_goal_real  success  hour  day  month  year  \n",
       "0               0.0        1533.95        0    12   11      8  2015  \n",
       "1            2421.0       30000.00        0     4    2      9  2017  \n",
       "2             220.0       45000.00        0     0   12      1  2013  \n",
       "3               1.0        5000.00        0     3   17      3  2012  \n",
       "4            1283.0       19500.00        0     8    4      7  2015  "
      ]
     },
     "execution_count": 18,
     "metadata": {},
     "output_type": "execute_result"
    }
   ],
   "source": [
    "df1.head()"
   ]
  },
  {
   "cell_type": "code",
   "execution_count": 19,
   "metadata": {},
   "outputs": [
    {
     "data": {
      "text/html": [
       "<div>\n",
       "<style scoped>\n",
       "    .dataframe tbody tr th:only-of-type {\n",
       "        vertical-align: middle;\n",
       "    }\n",
       "\n",
       "    .dataframe tbody tr th {\n",
       "        vertical-align: top;\n",
       "    }\n",
       "\n",
       "    .dataframe thead th {\n",
       "        text-align: right;\n",
       "    }\n",
       "</style>\n",
       "<table border=\"1\" class=\"dataframe\">\n",
       "  <thead>\n",
       "    <tr style=\"text-align: right;\">\n",
       "      <th></th>\n",
       "      <th>ID</th>\n",
       "      <th>goal</th>\n",
       "      <th>pledged</th>\n",
       "      <th>backers</th>\n",
       "      <th>usd pledged</th>\n",
       "      <th>usd_pledged_real</th>\n",
       "      <th>usd_goal_real</th>\n",
       "      <th>success</th>\n",
       "      <th>hour</th>\n",
       "      <th>day</th>\n",
       "      <th>month</th>\n",
       "      <th>year</th>\n",
       "    </tr>\n",
       "  </thead>\n",
       "  <tbody>\n",
       "    <tr>\n",
       "      <th>count</th>\n",
       "      <td>3.758620e+05</td>\n",
       "      <td>3.758620e+05</td>\n",
       "      <td>3.758620e+05</td>\n",
       "      <td>375862.000000</td>\n",
       "      <td>3.720660e+05</td>\n",
       "      <td>3.758620e+05</td>\n",
       "      <td>3.758620e+05</td>\n",
       "      <td>375862.000000</td>\n",
       "      <td>375862.000000</td>\n",
       "      <td>375862.000000</td>\n",
       "      <td>375862.000000</td>\n",
       "      <td>375862.000000</td>\n",
       "    </tr>\n",
       "    <tr>\n",
       "      <th>mean</th>\n",
       "      <td>1.074660e+09</td>\n",
       "      <td>4.887465e+04</td>\n",
       "      <td>9.687431e+03</td>\n",
       "      <td>105.896866</td>\n",
       "      <td>7.080215e+03</td>\n",
       "      <td>9.082678e+03</td>\n",
       "      <td>4.532720e+04</td>\n",
       "      <td>0.356397</td>\n",
       "      <td>13.091637</td>\n",
       "      <td>15.294741</td>\n",
       "      <td>6.425403</td>\n",
       "      <td>2014.227014</td>\n",
       "    </tr>\n",
       "    <tr>\n",
       "      <th>std</th>\n",
       "      <td>6.191365e+08</td>\n",
       "      <td>1.176595e+06</td>\n",
       "      <td>9.588649e+04</td>\n",
       "      <td>909.952393</td>\n",
       "      <td>7.893105e+04</td>\n",
       "      <td>9.127075e+04</td>\n",
       "      <td>1.145865e+06</td>\n",
       "      <td>0.478935</td>\n",
       "      <td>7.712252</td>\n",
       "      <td>8.809024</td>\n",
       "      <td>3.310220</td>\n",
       "      <td>1.925235</td>\n",
       "    </tr>\n",
       "    <tr>\n",
       "      <th>min</th>\n",
       "      <td>5.971000e+03</td>\n",
       "      <td>1.000000e-02</td>\n",
       "      <td>0.000000e+00</td>\n",
       "      <td>0.000000</td>\n",
       "      <td>0.000000e+00</td>\n",
       "      <td>0.000000e+00</td>\n",
       "      <td>1.000000e-02</td>\n",
       "      <td>0.000000</td>\n",
       "      <td>0.000000</td>\n",
       "      <td>1.000000</td>\n",
       "      <td>1.000000</td>\n",
       "      <td>1970.000000</td>\n",
       "    </tr>\n",
       "    <tr>\n",
       "      <th>25%</th>\n",
       "      <td>5.380103e+08</td>\n",
       "      <td>2.000000e+03</td>\n",
       "      <td>3.000000e+01</td>\n",
       "      <td>2.000000</td>\n",
       "      <td>1.800000e+01</td>\n",
       "      <td>3.100000e+01</td>\n",
       "      <td>2.000000e+03</td>\n",
       "      <td>0.000000</td>\n",
       "      <td>5.000000</td>\n",
       "      <td>8.000000</td>\n",
       "      <td>4.000000</td>\n",
       "      <td>2013.000000</td>\n",
       "    </tr>\n",
       "    <tr>\n",
       "      <th>50%</th>\n",
       "      <td>1.075277e+09</td>\n",
       "      <td>5.100000e+03</td>\n",
       "      <td>6.250000e+02</td>\n",
       "      <td>12.000000</td>\n",
       "      <td>4.000000e+02</td>\n",
       "      <td>6.274500e+02</td>\n",
       "      <td>5.480000e+03</td>\n",
       "      <td>0.000000</td>\n",
       "      <td>16.000000</td>\n",
       "      <td>15.000000</td>\n",
       "      <td>6.000000</td>\n",
       "      <td>2014.000000</td>\n",
       "    </tr>\n",
       "    <tr>\n",
       "      <th>75%</th>\n",
       "      <td>1.610139e+09</td>\n",
       "      <td>1.600000e+04</td>\n",
       "      <td>4.090000e+03</td>\n",
       "      <td>56.000000</td>\n",
       "      <td>3.056957e+03</td>\n",
       "      <td>4.064463e+03</td>\n",
       "      <td>1.550000e+04</td>\n",
       "      <td>1.000000</td>\n",
       "      <td>20.000000</td>\n",
       "      <td>23.000000</td>\n",
       "      <td>9.000000</td>\n",
       "      <td>2016.000000</td>\n",
       "    </tr>\n",
       "    <tr>\n",
       "      <th>max</th>\n",
       "      <td>2.147476e+09</td>\n",
       "      <td>1.000000e+08</td>\n",
       "      <td>2.033899e+07</td>\n",
       "      <td>219382.000000</td>\n",
       "      <td>2.033899e+07</td>\n",
       "      <td>2.033899e+07</td>\n",
       "      <td>1.663614e+08</td>\n",
       "      <td>1.000000</td>\n",
       "      <td>23.000000</td>\n",
       "      <td>31.000000</td>\n",
       "      <td>12.000000</td>\n",
       "      <td>2018.000000</td>\n",
       "    </tr>\n",
       "  </tbody>\n",
       "</table>\n",
       "</div>"
      ],
      "text/plain": [
       "                 ID          goal       pledged        backers   usd pledged  \\\n",
       "count  3.758620e+05  3.758620e+05  3.758620e+05  375862.000000  3.720660e+05   \n",
       "mean   1.074660e+09  4.887465e+04  9.687431e+03     105.896866  7.080215e+03   \n",
       "std    6.191365e+08  1.176595e+06  9.588649e+04     909.952393  7.893105e+04   \n",
       "min    5.971000e+03  1.000000e-02  0.000000e+00       0.000000  0.000000e+00   \n",
       "25%    5.380103e+08  2.000000e+03  3.000000e+01       2.000000  1.800000e+01   \n",
       "50%    1.075277e+09  5.100000e+03  6.250000e+02      12.000000  4.000000e+02   \n",
       "75%    1.610139e+09  1.600000e+04  4.090000e+03      56.000000  3.056957e+03   \n",
       "max    2.147476e+09  1.000000e+08  2.033899e+07  219382.000000  2.033899e+07   \n",
       "\n",
       "       usd_pledged_real  usd_goal_real        success           hour  \\\n",
       "count      3.758620e+05   3.758620e+05  375862.000000  375862.000000   \n",
       "mean       9.082678e+03   4.532720e+04       0.356397      13.091637   \n",
       "std        9.127075e+04   1.145865e+06       0.478935       7.712252   \n",
       "min        0.000000e+00   1.000000e-02       0.000000       0.000000   \n",
       "25%        3.100000e+01   2.000000e+03       0.000000       5.000000   \n",
       "50%        6.274500e+02   5.480000e+03       0.000000      16.000000   \n",
       "75%        4.064463e+03   1.550000e+04       1.000000      20.000000   \n",
       "max        2.033899e+07   1.663614e+08       1.000000      23.000000   \n",
       "\n",
       "                 day          month           year  \n",
       "count  375862.000000  375862.000000  375862.000000  \n",
       "mean       15.294741       6.425403    2014.227014  \n",
       "std         8.809024       3.310220       1.925235  \n",
       "min         1.000000       1.000000    1970.000000  \n",
       "25%         8.000000       4.000000    2013.000000  \n",
       "50%        15.000000       6.000000    2014.000000  \n",
       "75%        23.000000       9.000000    2016.000000  \n",
       "max        31.000000      12.000000    2018.000000  "
      ]
     },
     "execution_count": 19,
     "metadata": {},
     "output_type": "execute_result"
    }
   ],
   "source": [
    "df1.describe()"
   ]
  },
  {
   "cell_type": "code",
   "execution_count": 20,
   "metadata": {
    "scrolled": false
   },
   "outputs": [
    {
     "data": {
      "image/png": "[encoded data removed]",
      "text/plain": [
       "<Figure size 432x288 with 1 Axes>"
      ]
     },
     "metadata": {
      "needs_background": "light"
     },
     "output_type": "display_data"
    }
   ],
   "source": [
    "import matplotlib.pyplot as plt\n",
    "df1['year'].hist()\n",
    "plt.show()"
   ]
  },
  {
   "cell_type": "code",
   "execution_count": 21,
   "metadata": {},
   "outputs": [
    {
     "data": {
      "text/plain": [
       "94579     1970\n",
       "319002    1970\n",
       "247913    1970\n",
       "273779    1970\n",
       "48147     1970\n",
       "2842      1970\n",
       "75397     1970\n",
       "139431    2009\n",
       "89388     2009\n",
       "100377    2009\n",
       "309734    2009\n",
       "338538    2009\n",
       "24262     2009\n",
       "309704    2009\n",
       "324633    2009\n",
       "262536    2009\n",
       "148638    2009\n",
       "355980    2009\n",
       "262521    2009\n",
       "294859    2009\n",
       "Name: year, dtype: int64"
      ]
     },
     "execution_count": 21,
     "metadata": {},
     "output_type": "execute_result"
    }
   ],
   "source": [
    "df1['year'].sort_values().head(20)"
   ]
  },
  {
   "cell_type": "code",
   "execution_count": 22,
   "metadata": {},
   "outputs": [],
   "source": [
    "# remove the 1970 data. Kickstarter started after 2009.\n",
    "df1 = df1[(df1['year'] >= 2009)]"
   ]
  },
  {
   "cell_type": "code",
   "execution_count": 23,
   "metadata": {},
   "outputs": [
    {
     "data": {
      "text/plain": [
       "<matplotlib.axes._subplots.AxesSubplot at 0x7f5de9df2150>"
      ]
     },
     "execution_count": 23,
     "metadata": {},
     "output_type": "execute_result"
    },
    {
     "data": {
      "image/png": "[encoded data removed]",
      "text/plain": [
       "<Figure size 432x288 with 1 Axes>"
      ]
     },
     "metadata": {
      "needs_background": "light"
     },
     "output_type": "display_data"
    }
   ],
   "source": [
    "df1['year'].hist()"
   ]
  },
  {
   "cell_type": "code",
   "execution_count": 24,
   "metadata": {},
   "outputs": [],
   "source": [
    "df1 = df1.assign(dhour=df1.deadline.dt.hour,\n",
    "               dday=df1.deadline.dt.day,\n",
    "               dmonth=df1.deadline.dt.month,\n",
    "               dyear=df1.deadline.dt.year)"
   ]
  },
  {
   "cell_type": "code",
   "execution_count": 25,
   "metadata": {},
   "outputs": [],
   "source": [
    "df1 = df1.assign(total_year= df1.dyear-df1.year)\n",
    "df1 = df1.assign(total_month = df1.total_year*12 + (df1.dmonth-df1.month))\n",
    "df1 = df1.assign(total_day = df1.total_month * 30 + (df1.dday - df1.day))\n",
    "df1 = df1.assign(total_hour = df1.total_day * 24 + (df1.dhour - df1.hour))"
   ]
  },
  {
   "cell_type": "code",
   "execution_count": 26,
   "metadata": {},
   "outputs": [],
   "source": [
    "data = df1.query('total_hour >= 0')"
   ]
  },
  {
   "cell_type": "code",
   "execution_count": 27,
   "metadata": {},
   "outputs": [
    {
     "data": {
      "text/plain": [
       "(375854, 28)"
      ]
     },
     "execution_count": 27,
     "metadata": {},
     "output_type": "execute_result"
    }
   ],
   "source": [
    "data.shape"
   ]
  },
  {
   "cell_type": "code",
   "execution_count": 28,
   "metadata": {},
   "outputs": [
    {
     "data": {
      "text/plain": [
       "0          1000.0\n",
       "1         30000.0\n",
       "2         45000.0\n",
       "3          5000.0\n",
       "4         19500.0\n",
       "           ...   \n",
       "378656    50000.0\n",
       "378657     1500.0\n",
       "378658    15000.0\n",
       "378659    15000.0\n",
       "378660     2000.0\n",
       "Name: goal, Length: 378661, dtype: float64"
      ]
     },
     "execution_count": 28,
     "metadata": {},
     "output_type": "execute_result"
    }
   ],
   "source": [
    "df['goal']"
   ]
  },
  {
   "cell_type": "code",
   "execution_count": 29,
   "metadata": {},
   "outputs": [],
   "source": [
    "low = data['goal'].quantile(0.3)\n",
    "mid = data['goal'].quantile(0.6)\n",
    "high = data['goal'].quantile(0.9)\n",
    "\n"
   ]
  },
  {
   "cell_type": "code",
   "execution_count": 30,
   "metadata": {},
   "outputs": [
    {
     "name": "stdout",
     "output_type": "stream",
     "text": [
      "2500.0\n",
      "9000.0\n",
      "50000.0\n"
     ]
    }
   ],
   "source": [
    "print(low)\n",
    "print(mid)\n",
    "print(high)"
   ]
  },
  {
   "cell_type": "code",
   "execution_count": 31,
   "metadata": {},
   "outputs": [],
   "source": [
    "conditions = [(data['goal']<low),((data['goal']>=low) & (data['goal']<mid)),((data['goal']>=mid) & (data['goal']<high)),(data['goal']>=high)]\n",
    "tags = ['t0_low', 't1_medium','t2_high','t3_extreme']\n",
    "\n",
    "data = data.assign(categorical_goal = np.select(conditions,tags))"
   ]
  },
  {
   "cell_type": "code",
   "execution_count": 32,
   "metadata": {},
   "outputs": [
    {
     "data": {
      "text/html": [
       "<div>\n",
       "<style scoped>\n",
       "    .dataframe tbody tr th:only-of-type {\n",
       "        vertical-align: middle;\n",
       "    }\n",
       "\n",
       "    .dataframe tbody tr th {\n",
       "        vertical-align: top;\n",
       "    }\n",
       "\n",
       "    .dataframe thead th {\n",
       "        text-align: right;\n",
       "    }\n",
       "</style>\n",
       "<table border=\"1\" class=\"dataframe\">\n",
       "  <thead>\n",
       "    <tr style=\"text-align: right;\">\n",
       "      <th></th>\n",
       "      <th>ID</th>\n",
       "      <th>name</th>\n",
       "      <th>category</th>\n",
       "      <th>main_category</th>\n",
       "      <th>currency</th>\n",
       "      <th>deadline</th>\n",
       "      <th>goal</th>\n",
       "      <th>launched</th>\n",
       "      <th>pledged</th>\n",
       "      <th>state</th>\n",
       "      <th>backers</th>\n",
       "      <th>country</th>\n",
       "      <th>usd pledged</th>\n",
       "      <th>usd_pledged_real</th>\n",
       "      <th>usd_goal_real</th>\n",
       "      <th>success</th>\n",
       "      <th>hour</th>\n",
       "      <th>day</th>\n",
       "      <th>month</th>\n",
       "      <th>year</th>\n",
       "      <th>dhour</th>\n",
       "      <th>dday</th>\n",
       "      <th>dmonth</th>\n",
       "      <th>dyear</th>\n",
       "      <th>total_year</th>\n",
       "      <th>total_month</th>\n",
       "      <th>total_day</th>\n",
       "      <th>total_hour</th>\n",
       "      <th>categorical_goal</th>\n",
       "    </tr>\n",
       "  </thead>\n",
       "  <tbody>\n",
       "    <tr>\n",
       "      <th>0</th>\n",
       "      <td>1000002330</td>\n",
       "      <td>The Songs of Adelaide &amp; Abullah</td>\n",
       "      <td>Poetry</td>\n",
       "      <td>Publishing</td>\n",
       "      <td>GBP</td>\n",
       "      <td>2015-10-09</td>\n",
       "      <td>1000.0</td>\n",
       "      <td>2015-08-11 12:12:28</td>\n",
       "      <td>0.0</td>\n",
       "      <td>failed</td>\n",
       "      <td>0</td>\n",
       "      <td>GB</td>\n",
       "      <td>0.0</td>\n",
       "      <td>0.0</td>\n",
       "      <td>1533.95</td>\n",
       "      <td>0</td>\n",
       "      <td>12</td>\n",
       "      <td>11</td>\n",
       "      <td>8</td>\n",
       "      <td>2015</td>\n",
       "      <td>0</td>\n",
       "      <td>9</td>\n",
       "      <td>10</td>\n",
       "      <td>2015</td>\n",
       "      <td>0</td>\n",
       "      <td>2</td>\n",
       "      <td>58</td>\n",
       "      <td>1380</td>\n",
       "      <td>t0_low</td>\n",
       "    </tr>\n",
       "    <tr>\n",
       "      <th>1</th>\n",
       "      <td>1000003930</td>\n",
       "      <td>Greeting From Earth: ZGAC Arts Capsule For ET</td>\n",
       "      <td>Narrative Film</td>\n",
       "      <td>Film &amp; Video</td>\n",
       "      <td>USD</td>\n",
       "      <td>2017-11-01</td>\n",
       "      <td>30000.0</td>\n",
       "      <td>2017-09-02 04:43:57</td>\n",
       "      <td>2421.0</td>\n",
       "      <td>failed</td>\n",
       "      <td>15</td>\n",
       "      <td>US</td>\n",
       "      <td>100.0</td>\n",
       "      <td>2421.0</td>\n",
       "      <td>30000.00</td>\n",
       "      <td>0</td>\n",
       "      <td>4</td>\n",
       "      <td>2</td>\n",
       "      <td>9</td>\n",
       "      <td>2017</td>\n",
       "      <td>0</td>\n",
       "      <td>1</td>\n",
       "      <td>11</td>\n",
       "      <td>2017</td>\n",
       "      <td>0</td>\n",
       "      <td>2</td>\n",
       "      <td>59</td>\n",
       "      <td>1412</td>\n",
       "      <td>t2_high</td>\n",
       "    </tr>\n",
       "    <tr>\n",
       "      <th>2</th>\n",
       "      <td>1000004038</td>\n",
       "      <td>Where is Hank?</td>\n",
       "      <td>Narrative Film</td>\n",
       "      <td>Film &amp; Video</td>\n",
       "      <td>USD</td>\n",
       "      <td>2013-02-26</td>\n",
       "      <td>45000.0</td>\n",
       "      <td>2013-01-12 00:20:50</td>\n",
       "      <td>220.0</td>\n",
       "      <td>failed</td>\n",
       "      <td>3</td>\n",
       "      <td>US</td>\n",
       "      <td>220.0</td>\n",
       "      <td>220.0</td>\n",
       "      <td>45000.00</td>\n",
       "      <td>0</td>\n",
       "      <td>0</td>\n",
       "      <td>12</td>\n",
       "      <td>1</td>\n",
       "      <td>2013</td>\n",
       "      <td>0</td>\n",
       "      <td>26</td>\n",
       "      <td>2</td>\n",
       "      <td>2013</td>\n",
       "      <td>0</td>\n",
       "      <td>1</td>\n",
       "      <td>44</td>\n",
       "      <td>1056</td>\n",
       "      <td>t2_high</td>\n",
       "    </tr>\n",
       "    <tr>\n",
       "      <th>3</th>\n",
       "      <td>1000007540</td>\n",
       "      <td>ToshiCapital Rekordz Needs Help to Complete Album</td>\n",
       "      <td>Music</td>\n",
       "      <td>Music</td>\n",
       "      <td>USD</td>\n",
       "      <td>2012-04-16</td>\n",
       "      <td>5000.0</td>\n",
       "      <td>2012-03-17 03:24:11</td>\n",
       "      <td>1.0</td>\n",
       "      <td>failed</td>\n",
       "      <td>1</td>\n",
       "      <td>US</td>\n",
       "      <td>1.0</td>\n",
       "      <td>1.0</td>\n",
       "      <td>5000.00</td>\n",
       "      <td>0</td>\n",
       "      <td>3</td>\n",
       "      <td>17</td>\n",
       "      <td>3</td>\n",
       "      <td>2012</td>\n",
       "      <td>0</td>\n",
       "      <td>16</td>\n",
       "      <td>4</td>\n",
       "      <td>2012</td>\n",
       "      <td>0</td>\n",
       "      <td>1</td>\n",
       "      <td>29</td>\n",
       "      <td>693</td>\n",
       "      <td>t1_medium</td>\n",
       "    </tr>\n",
       "    <tr>\n",
       "      <th>4</th>\n",
       "      <td>1000011046</td>\n",
       "      <td>Community Film Project: The Art of Neighborhoo...</td>\n",
       "      <td>Film &amp; Video</td>\n",
       "      <td>Film &amp; Video</td>\n",
       "      <td>USD</td>\n",
       "      <td>2015-08-29</td>\n",
       "      <td>19500.0</td>\n",
       "      <td>2015-07-04 08:35:03</td>\n",
       "      <td>1283.0</td>\n",
       "      <td>canceled</td>\n",
       "      <td>14</td>\n",
       "      <td>US</td>\n",
       "      <td>1283.0</td>\n",
       "      <td>1283.0</td>\n",
       "      <td>19500.00</td>\n",
       "      <td>0</td>\n",
       "      <td>8</td>\n",
       "      <td>4</td>\n",
       "      <td>7</td>\n",
       "      <td>2015</td>\n",
       "      <td>0</td>\n",
       "      <td>29</td>\n",
       "      <td>8</td>\n",
       "      <td>2015</td>\n",
       "      <td>0</td>\n",
       "      <td>1</td>\n",
       "      <td>55</td>\n",
       "      <td>1312</td>\n",
       "      <td>t2_high</td>\n",
       "    </tr>\n",
       "  </tbody>\n",
       "</table>\n",
       "</div>"
      ],
      "text/plain": [
       "           ID                                               name  \\\n",
       "0  1000002330                    The Songs of Adelaide & Abullah   \n",
       "1  1000003930      Greeting From Earth: ZGAC Arts Capsule For ET   \n",
       "2  1000004038                                     Where is Hank?   \n",
       "3  1000007540  ToshiCapital Rekordz Needs Help to Complete Album   \n",
       "4  1000011046  Community Film Project: The Art of Neighborhoo...   \n",
       "\n",
       "         category main_category currency   deadline     goal  \\\n",
       "0          Poetry    Publishing      GBP 2015-10-09   1000.0   \n",
       "1  Narrative Film  Film & Video      USD 2017-11-01  30000.0   \n",
       "2  Narrative Film  Film & Video      USD 2013-02-26  45000.0   \n",
       "3           Music         Music      USD 2012-04-16   5000.0   \n",
       "4    Film & Video  Film & Video      USD 2015-08-29  19500.0   \n",
       "\n",
       "             launched  pledged     state  backers country  usd pledged  \\\n",
       "0 2015-08-11 12:12:28      0.0    failed        0      GB          0.0   \n",
       "1 2017-09-02 04:43:57   2421.0    failed       15      US        100.0   \n",
       "2 2013-01-12 00:20:50    220.0    failed        3      US        220.0   \n",
       "3 2012-03-17 03:24:11      1.0    failed        1      US          1.0   \n",
       "4 2015-07-04 08:35:03   1283.0  canceled       14      US       1283.0   \n",
       "\n",
       "   usd_pledged_real  usd_goal_real  success  hour  day  month  year  dhour  \\\n",
       "0               0.0        1533.95        0    12   11      8  2015      0   \n",
       "1            2421.0       30000.00        0     4    2      9  2017      0   \n",
       "2             220.0       45000.00        0     0   12      1  2013      0   \n",
       "3               1.0        5000.00        0     3   17      3  2012      0   \n",
       "4            1283.0       19500.00        0     8    4      7  2015      0   \n",
       "\n",
       "   dday  dmonth  dyear  total_year  total_month  total_day  total_hour  \\\n",
       "0     9      10   2015           0            2         58        1380   \n",
       "1     1      11   2017           0            2         59        1412   \n",
       "2    26       2   2013           0            1         44        1056   \n",
       "3    16       4   2012           0            1         29         693   \n",
       "4    29       8   2015           0            1         55        1312   \n",
       "\n",
       "  categorical_goal  \n",
       "0           t0_low  \n",
       "1          t2_high  \n",
       "2          t2_high  \n",
       "3        t1_medium  \n",
       "4          t2_high  "
      ]
     },
     "execution_count": 32,
     "metadata": {},
     "output_type": "execute_result"
    }
   ],
   "source": [
    "data.head()"
   ]
  },
  {
   "cell_type": "code",
   "execution_count": 33,
   "metadata": {},
   "outputs": [
    {
     "data": {
      "text/html": [
       "<div>\n",
       "<style scoped>\n",
       "    .dataframe tbody tr th:only-of-type {\n",
       "        vertical-align: middle;\n",
       "    }\n",
       "\n",
       "    .dataframe tbody tr th {\n",
       "        vertical-align: top;\n",
       "    }\n",
       "\n",
       "    .dataframe thead th {\n",
       "        text-align: right;\n",
       "    }\n",
       "</style>\n",
       "<table border=\"1\" class=\"dataframe\">\n",
       "  <thead>\n",
       "    <tr style=\"text-align: right;\">\n",
       "      <th></th>\n",
       "      <th>ID</th>\n",
       "      <th>name</th>\n",
       "      <th>category</th>\n",
       "      <th>main_category</th>\n",
       "      <th>currency</th>\n",
       "      <th>deadline</th>\n",
       "      <th>goal</th>\n",
       "      <th>launched</th>\n",
       "      <th>pledged</th>\n",
       "      <th>state</th>\n",
       "      <th>backers</th>\n",
       "      <th>country</th>\n",
       "      <th>usd pledged</th>\n",
       "      <th>usd_pledged_real</th>\n",
       "      <th>usd_goal_real</th>\n",
       "      <th>success</th>\n",
       "      <th>hour</th>\n",
       "      <th>day</th>\n",
       "      <th>month</th>\n",
       "      <th>year</th>\n",
       "      <th>dhour</th>\n",
       "      <th>dday</th>\n",
       "      <th>dmonth</th>\n",
       "      <th>dyear</th>\n",
       "      <th>total_year</th>\n",
       "      <th>total_month</th>\n",
       "      <th>total_day</th>\n",
       "      <th>total_hour</th>\n",
       "      <th>categorical_goal</th>\n",
       "      <th>categorical_backers</th>\n",
       "    </tr>\n",
       "  </thead>\n",
       "  <tbody>\n",
       "    <tr>\n",
       "      <th>0</th>\n",
       "      <td>1000002330</td>\n",
       "      <td>The Songs of Adelaide &amp; Abullah</td>\n",
       "      <td>Poetry</td>\n",
       "      <td>Publishing</td>\n",
       "      <td>GBP</td>\n",
       "      <td>2015-10-09</td>\n",
       "      <td>1000.0</td>\n",
       "      <td>2015-08-11 12:12:28</td>\n",
       "      <td>0.0</td>\n",
       "      <td>failed</td>\n",
       "      <td>0</td>\n",
       "      <td>GB</td>\n",
       "      <td>0.0</td>\n",
       "      <td>0.0</td>\n",
       "      <td>1533.95</td>\n",
       "      <td>0</td>\n",
       "      <td>12</td>\n",
       "      <td>11</td>\n",
       "      <td>8</td>\n",
       "      <td>2015</td>\n",
       "      <td>0</td>\n",
       "      <td>9</td>\n",
       "      <td>10</td>\n",
       "      <td>2015</td>\n",
       "      <td>0</td>\n",
       "      <td>2</td>\n",
       "      <td>58</td>\n",
       "      <td>1380</td>\n",
       "      <td>t0_low</td>\n",
       "      <td>t0_low</td>\n",
       "    </tr>\n",
       "    <tr>\n",
       "      <th>1</th>\n",
       "      <td>1000003930</td>\n",
       "      <td>Greeting From Earth: ZGAC Arts Capsule For ET</td>\n",
       "      <td>Narrative Film</td>\n",
       "      <td>Film &amp; Video</td>\n",
       "      <td>USD</td>\n",
       "      <td>2017-11-01</td>\n",
       "      <td>30000.0</td>\n",
       "      <td>2017-09-02 04:43:57</td>\n",
       "      <td>2421.0</td>\n",
       "      <td>failed</td>\n",
       "      <td>15</td>\n",
       "      <td>US</td>\n",
       "      <td>100.0</td>\n",
       "      <td>2421.0</td>\n",
       "      <td>30000.00</td>\n",
       "      <td>0</td>\n",
       "      <td>4</td>\n",
       "      <td>2</td>\n",
       "      <td>9</td>\n",
       "      <td>2017</td>\n",
       "      <td>0</td>\n",
       "      <td>1</td>\n",
       "      <td>11</td>\n",
       "      <td>2017</td>\n",
       "      <td>0</td>\n",
       "      <td>2</td>\n",
       "      <td>59</td>\n",
       "      <td>1412</td>\n",
       "      <td>t2_high</td>\n",
       "      <td>t1_medium</td>\n",
       "    </tr>\n",
       "    <tr>\n",
       "      <th>2</th>\n",
       "      <td>1000004038</td>\n",
       "      <td>Where is Hank?</td>\n",
       "      <td>Narrative Film</td>\n",
       "      <td>Film &amp; Video</td>\n",
       "      <td>USD</td>\n",
       "      <td>2013-02-26</td>\n",
       "      <td>45000.0</td>\n",
       "      <td>2013-01-12 00:20:50</td>\n",
       "      <td>220.0</td>\n",
       "      <td>failed</td>\n",
       "      <td>3</td>\n",
       "      <td>US</td>\n",
       "      <td>220.0</td>\n",
       "      <td>220.0</td>\n",
       "      <td>45000.00</td>\n",
       "      <td>0</td>\n",
       "      <td>0</td>\n",
       "      <td>12</td>\n",
       "      <td>1</td>\n",
       "      <td>2013</td>\n",
       "      <td>0</td>\n",
       "      <td>26</td>\n",
       "      <td>2</td>\n",
       "      <td>2013</td>\n",
       "      <td>0</td>\n",
       "      <td>1</td>\n",
       "      <td>44</td>\n",
       "      <td>1056</td>\n",
       "      <td>t2_high</td>\n",
       "      <td>t1_medium</td>\n",
       "    </tr>\n",
       "    <tr>\n",
       "      <th>3</th>\n",
       "      <td>1000007540</td>\n",
       "      <td>ToshiCapital Rekordz Needs Help to Complete Album</td>\n",
       "      <td>Music</td>\n",
       "      <td>Music</td>\n",
       "      <td>USD</td>\n",
       "      <td>2012-04-16</td>\n",
       "      <td>5000.0</td>\n",
       "      <td>2012-03-17 03:24:11</td>\n",
       "      <td>1.0</td>\n",
       "      <td>failed</td>\n",
       "      <td>1</td>\n",
       "      <td>US</td>\n",
       "      <td>1.0</td>\n",
       "      <td>1.0</td>\n",
       "      <td>5000.00</td>\n",
       "      <td>0</td>\n",
       "      <td>3</td>\n",
       "      <td>17</td>\n",
       "      <td>3</td>\n",
       "      <td>2012</td>\n",
       "      <td>0</td>\n",
       "      <td>16</td>\n",
       "      <td>4</td>\n",
       "      <td>2012</td>\n",
       "      <td>0</td>\n",
       "      <td>1</td>\n",
       "      <td>29</td>\n",
       "      <td>693</td>\n",
       "      <td>t1_medium</td>\n",
       "      <td>t0_low</td>\n",
       "    </tr>\n",
       "    <tr>\n",
       "      <th>4</th>\n",
       "      <td>1000011046</td>\n",
       "      <td>Community Film Project: The Art of Neighborhoo...</td>\n",
       "      <td>Film &amp; Video</td>\n",
       "      <td>Film &amp; Video</td>\n",
       "      <td>USD</td>\n",
       "      <td>2015-08-29</td>\n",
       "      <td>19500.0</td>\n",
       "      <td>2015-07-04 08:35:03</td>\n",
       "      <td>1283.0</td>\n",
       "      <td>canceled</td>\n",
       "      <td>14</td>\n",
       "      <td>US</td>\n",
       "      <td>1283.0</td>\n",
       "      <td>1283.0</td>\n",
       "      <td>19500.00</td>\n",
       "      <td>0</td>\n",
       "      <td>8</td>\n",
       "      <td>4</td>\n",
       "      <td>7</td>\n",
       "      <td>2015</td>\n",
       "      <td>0</td>\n",
       "      <td>29</td>\n",
       "      <td>8</td>\n",
       "      <td>2015</td>\n",
       "      <td>0</td>\n",
       "      <td>1</td>\n",
       "      <td>55</td>\n",
       "      <td>1312</td>\n",
       "      <td>t2_high</td>\n",
       "      <td>t1_medium</td>\n",
       "    </tr>\n",
       "  </tbody>\n",
       "</table>\n",
       "</div>"
      ],
      "text/plain": [
       "           ID                                               name  \\\n",
       "0  1000002330                    The Songs of Adelaide & Abullah   \n",
       "1  1000003930      Greeting From Earth: ZGAC Arts Capsule For ET   \n",
       "2  1000004038                                     Where is Hank?   \n",
       "3  1000007540  ToshiCapital Rekordz Needs Help to Complete Album   \n",
       "4  1000011046  Community Film Project: The Art of Neighborhoo...   \n",
       "\n",
       "         category main_category currency   deadline     goal  \\\n",
       "0          Poetry    Publishing      GBP 2015-10-09   1000.0   \n",
       "1  Narrative Film  Film & Video      USD 2017-11-01  30000.0   \n",
       "2  Narrative Film  Film & Video      USD 2013-02-26  45000.0   \n",
       "3           Music         Music      USD 2012-04-16   5000.0   \n",
       "4    Film & Video  Film & Video      USD 2015-08-29  19500.0   \n",
       "\n",
       "             launched  pledged     state  backers country  usd pledged  \\\n",
       "0 2015-08-11 12:12:28      0.0    failed        0      GB          0.0   \n",
       "1 2017-09-02 04:43:57   2421.0    failed       15      US        100.0   \n",
       "2 2013-01-12 00:20:50    220.0    failed        3      US        220.0   \n",
       "3 2012-03-17 03:24:11      1.0    failed        1      US          1.0   \n",
       "4 2015-07-04 08:35:03   1283.0  canceled       14      US       1283.0   \n",
       "\n",
       "   usd_pledged_real  usd_goal_real  success  hour  day  month  year  dhour  \\\n",
       "0               0.0        1533.95        0    12   11      8  2015      0   \n",
       "1            2421.0       30000.00        0     4    2      9  2017      0   \n",
       "2             220.0       45000.00        0     0   12      1  2013      0   \n",
       "3               1.0        5000.00        0     3   17      3  2012      0   \n",
       "4            1283.0       19500.00        0     8    4      7  2015      0   \n",
       "\n",
       "   dday  dmonth  dyear  total_year  total_month  total_day  total_hour  \\\n",
       "0     9      10   2015           0            2         58        1380   \n",
       "1     1      11   2017           0            2         59        1412   \n",
       "2    26       2   2013           0            1         44        1056   \n",
       "3    16       4   2012           0            1         29         693   \n",
       "4    29       8   2015           0            1         55        1312   \n",
       "\n",
       "  categorical_goal categorical_backers  \n",
       "0           t0_low              t0_low  \n",
       "1          t2_high           t1_medium  \n",
       "2          t2_high           t1_medium  \n",
       "3        t1_medium              t0_low  \n",
       "4          t2_high           t1_medium  "
      ]
     },
     "execution_count": 33,
     "metadata": {},
     "output_type": "execute_result"
    }
   ],
   "source": [
    "low = data['backers'].quantile(0.3)\n",
    "mid = data['backers'].quantile(0.6)\n",
    "high = data['backers'].quantile(0.9)\n",
    "\n",
    "\n",
    "conditions = [(data['backers']<low),((data['backers']>=low) & (data['backers']<mid)),((data['backers']>=mid) & (data['backers']<high)),(data['backers']>=high)]\n",
    "tags = ['t0_low', 't1_medium','t2_high','t3_extreme']\n",
    "\n",
    "data = data.assign(categorical_backers = np.select(conditions,tags))\n",
    "\n",
    "data.head()"
   ]
  },
  {
   "cell_type": "code",
   "execution_count": 34,
   "metadata": {},
   "outputs": [
    {
     "data": {
      "text/plain": [
       "(375854, 30)"
      ]
     },
     "execution_count": 34,
     "metadata": {},
     "output_type": "execute_result"
    }
   ],
   "source": [
    "data.shape"
   ]
  },
  {
   "cell_type": "code",
   "execution_count": 35,
   "metadata": {},
   "outputs": [],
   "source": [
    "# Getting rid of some columns which are not relevant¶\n",
    "# \"Name\" of the project could have a effect on the success of the project but it would need high resources to identify (NLP/semantic analysis)\n",
    "# \"Goal\" will be changed with \"categorical_goal\" so it is dropped.\n",
    "# \"Backers\" will be changed with \"categorical_backers\" so it is dropped.\n",
    "# Any date info will be changed with lifetime of the project so they are dropped.\n",
    "# Total pledged money means success for finished projects but it can be used to make predictions about ongoing projects, which is not our case"
   ]
  },
  {
   "cell_type": "code",
   "execution_count": 36,
   "metadata": {},
   "outputs": [
    {
     "data": {
      "text/plain": [
       "(375854, 11)"
      ]
     },
     "execution_count": 36,
     "metadata": {},
     "output_type": "execute_result"
    }
   ],
   "source": [
    "dataframe = data.drop(columns = ['ID', 'name','goal','backers', 'deadline','dyear','year','dmonth','month','dday','day','dhour','hour','launched','usd_goal_real','pledged','state','usd_pledged_real','usd pledged'])\n",
    "dataframe.shape"
   ]
  },
  {
   "cell_type": "code",
   "execution_count": 37,
   "metadata": {},
   "outputs": [
    {
     "data": {
      "text/html": [
       "<div>\n",
       "<style scoped>\n",
       "    .dataframe tbody tr th:only-of-type {\n",
       "        vertical-align: middle;\n",
       "    }\n",
       "\n",
       "    .dataframe tbody tr th {\n",
       "        vertical-align: top;\n",
       "    }\n",
       "\n",
       "    .dataframe thead th {\n",
       "        text-align: right;\n",
       "    }\n",
       "</style>\n",
       "<table border=\"1\" class=\"dataframe\">\n",
       "  <thead>\n",
       "    <tr style=\"text-align: right;\">\n",
       "      <th></th>\n",
       "      <th>category</th>\n",
       "      <th>main_category</th>\n",
       "      <th>currency</th>\n",
       "      <th>country</th>\n",
       "      <th>success</th>\n",
       "      <th>total_year</th>\n",
       "      <th>total_month</th>\n",
       "      <th>total_day</th>\n",
       "      <th>total_hour</th>\n",
       "      <th>categorical_goal</th>\n",
       "      <th>categorical_backers</th>\n",
       "    </tr>\n",
       "  </thead>\n",
       "  <tbody>\n",
       "    <tr>\n",
       "      <th>0</th>\n",
       "      <td>Poetry</td>\n",
       "      <td>Publishing</td>\n",
       "      <td>GBP</td>\n",
       "      <td>GB</td>\n",
       "      <td>0</td>\n",
       "      <td>0</td>\n",
       "      <td>2</td>\n",
       "      <td>58</td>\n",
       "      <td>1380</td>\n",
       "      <td>t0_low</td>\n",
       "      <td>t0_low</td>\n",
       "    </tr>\n",
       "    <tr>\n",
       "      <th>1</th>\n",
       "      <td>Narrative Film</td>\n",
       "      <td>Film &amp; Video</td>\n",
       "      <td>USD</td>\n",
       "      <td>US</td>\n",
       "      <td>0</td>\n",
       "      <td>0</td>\n",
       "      <td>2</td>\n",
       "      <td>59</td>\n",
       "      <td>1412</td>\n",
       "      <td>t2_high</td>\n",
       "      <td>t1_medium</td>\n",
       "    </tr>\n",
       "    <tr>\n",
       "      <th>2</th>\n",
       "      <td>Narrative Film</td>\n",
       "      <td>Film &amp; Video</td>\n",
       "      <td>USD</td>\n",
       "      <td>US</td>\n",
       "      <td>0</td>\n",
       "      <td>0</td>\n",
       "      <td>1</td>\n",
       "      <td>44</td>\n",
       "      <td>1056</td>\n",
       "      <td>t2_high</td>\n",
       "      <td>t1_medium</td>\n",
       "    </tr>\n",
       "    <tr>\n",
       "      <th>3</th>\n",
       "      <td>Music</td>\n",
       "      <td>Music</td>\n",
       "      <td>USD</td>\n",
       "      <td>US</td>\n",
       "      <td>0</td>\n",
       "      <td>0</td>\n",
       "      <td>1</td>\n",
       "      <td>29</td>\n",
       "      <td>693</td>\n",
       "      <td>t1_medium</td>\n",
       "      <td>t0_low</td>\n",
       "    </tr>\n",
       "    <tr>\n",
       "      <th>4</th>\n",
       "      <td>Film &amp; Video</td>\n",
       "      <td>Film &amp; Video</td>\n",
       "      <td>USD</td>\n",
       "      <td>US</td>\n",
       "      <td>0</td>\n",
       "      <td>0</td>\n",
       "      <td>1</td>\n",
       "      <td>55</td>\n",
       "      <td>1312</td>\n",
       "      <td>t2_high</td>\n",
       "      <td>t1_medium</td>\n",
       "    </tr>\n",
       "  </tbody>\n",
       "</table>\n",
       "</div>"
      ],
      "text/plain": [
       "         category main_category currency country  success  total_year  \\\n",
       "0          Poetry    Publishing      GBP      GB        0           0   \n",
       "1  Narrative Film  Film & Video      USD      US        0           0   \n",
       "2  Narrative Film  Film & Video      USD      US        0           0   \n",
       "3           Music         Music      USD      US        0           0   \n",
       "4    Film & Video  Film & Video      USD      US        0           0   \n",
       "\n",
       "   total_month  total_day  total_hour categorical_goal categorical_backers  \n",
       "0            2         58        1380           t0_low              t0_low  \n",
       "1            2         59        1412          t2_high           t1_medium  \n",
       "2            1         44        1056          t2_high           t1_medium  \n",
       "3            1         29         693        t1_medium              t0_low  \n",
       "4            1         55        1312          t2_high           t1_medium  "
      ]
     },
     "execution_count": 37,
     "metadata": {},
     "output_type": "execute_result"
    }
   ],
   "source": [
    "dataframe.head()"
   ]
  },
  {
   "cell_type": "code",
   "execution_count": 38,
   "metadata": {},
   "outputs": [
    {
     "name": "stderr",
     "output_type": "stream",
     "text": [
      "/home/tam/anaconda3/lib/python3.7/site-packages/statsmodels/tools/_testing.py:19: FutureWarning: pandas.util.testing is deprecated. Use the functions in the public API at pandas.testing instead.\n",
      "  import pandas.util.testing as tm\n"
     ]
    }
   ],
   "source": [
    "import matplotlib.pyplot as plt\n",
    "import seaborn as sns"
   ]
  },
  {
   "cell_type": "code",
   "execution_count": 39,
   "metadata": {},
   "outputs": [
    {
     "data": {
      "text/plain": [
       "378660             Art\n",
       "378659      Technology\n",
       "378658    Film & Video\n",
       "378657    Film & Video\n",
       "378656    Film & Video\n",
       "              ...     \n",
       "4         Film & Video\n",
       "3                Music\n",
       "2         Film & Video\n",
       "1         Film & Video\n",
       "0           Publishing\n",
       "Name: main_category, Length: 375854, dtype: object"
      ]
     },
     "execution_count": 39,
     "metadata": {},
     "output_type": "execute_result"
    }
   ],
   "source": [
    "dataframe['main_category'].sort_index(ascending=False)"
   ]
  },
  {
   "cell_type": "code",
   "execution_count": 40,
   "metadata": {
    "scrolled": false
   },
   "outputs": [
    {
     "data": {
      "text/plain": [
       "(array([ 0,  1,  2,  3,  4,  5,  6,  7,  8,  9, 10, 11, 12, 13, 14]),\n",
       " <a list of 15 Text xticklabel objects>)"
      ]
     },
     "execution_count": 40,
     "metadata": {},
     "output_type": "execute_result"
    },
    {
     "data": {
      "image/png": "[encoded data removed]",
      "text/plain": [
       "<Figure size 432x288 with 1 Axes>"
      ]
     },
     "metadata": {
      "needs_background": "light"
     },
     "output_type": "display_data"
    }
   ],
   "source": [
    "sns.countplot(dataframe['main_category'],order = dataframe['main_category'].value_counts().index)\n",
    "plt.xticks(rotation=60)"
   ]
  },
  {
   "cell_type": "code",
   "execution_count": 41,
   "metadata": {},
   "outputs": [
    {
     "data": {
      "text/html": [
       "<div>\n",
       "<style scoped>\n",
       "    .dataframe tbody tr th:only-of-type {\n",
       "        vertical-align: middle;\n",
       "    }\n",
       "\n",
       "    .dataframe tbody tr th {\n",
       "        vertical-align: top;\n",
       "    }\n",
       "\n",
       "    .dataframe thead th {\n",
       "        text-align: right;\n",
       "    }\n",
       "</style>\n",
       "<table border=\"1\" class=\"dataframe\">\n",
       "  <thead>\n",
       "    <tr style=\"text-align: right;\">\n",
       "      <th></th>\n",
       "      <th>main_category</th>\n",
       "      <th>success</th>\n",
       "    </tr>\n",
       "  </thead>\n",
       "  <tbody>\n",
       "    <tr>\n",
       "      <th>0</th>\n",
       "      <td>Dance</td>\n",
       "      <td>0.623467</td>\n",
       "    </tr>\n",
       "    <tr>\n",
       "      <th>1</th>\n",
       "      <td>Theater</td>\n",
       "      <td>0.601049</td>\n",
       "    </tr>\n",
       "    <tr>\n",
       "      <th>2</th>\n",
       "      <td>Comics</td>\n",
       "      <td>0.543796</td>\n",
       "    </tr>\n",
       "    <tr>\n",
       "      <th>3</th>\n",
       "      <td>Music</td>\n",
       "      <td>0.468597</td>\n",
       "    </tr>\n",
       "    <tr>\n",
       "      <th>4</th>\n",
       "      <td>Art</td>\n",
       "      <td>0.411689</td>\n",
       "    </tr>\n",
       "    <tr>\n",
       "      <th>5</th>\n",
       "      <td>Film &amp; Video</td>\n",
       "      <td>0.373480</td>\n",
       "    </tr>\n",
       "    <tr>\n",
       "      <th>6</th>\n",
       "      <td>Games</td>\n",
       "      <td>0.358230</td>\n",
       "    </tr>\n",
       "    <tr>\n",
       "      <th>7</th>\n",
       "      <td>Design</td>\n",
       "      <td>0.354455</td>\n",
       "    </tr>\n",
       "    <tr>\n",
       "      <th>8</th>\n",
       "      <td>Publishing</td>\n",
       "      <td>0.310810</td>\n",
       "    </tr>\n",
       "    <tr>\n",
       "      <th>9</th>\n",
       "      <td>Photography</td>\n",
       "      <td>0.307986</td>\n",
       "    </tr>\n",
       "    <tr>\n",
       "      <th>10</th>\n",
       "      <td>Food</td>\n",
       "      <td>0.249201</td>\n",
       "    </tr>\n",
       "    <tr>\n",
       "      <th>11</th>\n",
       "      <td>Fashion</td>\n",
       "      <td>0.247851</td>\n",
       "    </tr>\n",
       "    <tr>\n",
       "      <th>12</th>\n",
       "      <td>Crafts</td>\n",
       "      <td>0.242185</td>\n",
       "    </tr>\n",
       "    <tr>\n",
       "      <th>13</th>\n",
       "      <td>Journalism</td>\n",
       "      <td>0.214225</td>\n",
       "    </tr>\n",
       "    <tr>\n",
       "      <th>14</th>\n",
       "      <td>Technology</td>\n",
       "      <td>0.199863</td>\n",
       "    </tr>\n",
       "  </tbody>\n",
       "</table>\n",
       "</div>"
      ],
      "text/plain": [
       "   main_category   success\n",
       "0          Dance  0.623467\n",
       "1        Theater  0.601049\n",
       "2         Comics  0.543796\n",
       "3          Music  0.468597\n",
       "4            Art  0.411689\n",
       "5   Film & Video  0.373480\n",
       "6          Games  0.358230\n",
       "7         Design  0.354455\n",
       "8     Publishing  0.310810\n",
       "9    Photography  0.307986\n",
       "10          Food  0.249201\n",
       "11       Fashion  0.247851\n",
       "12        Crafts  0.242185\n",
       "13    Journalism  0.214225\n",
       "14    Technology  0.199863"
      ]
     },
     "execution_count": 41,
     "metadata": {},
     "output_type": "execute_result"
    }
   ],
   "source": [
    "mainCategorySuccess = dataframe[['main_category','success']]\n",
    "mainCategorySuccess = mainCategorySuccess.groupby(['main_category']).mean().sort_values(by=['success'], ascending = False).reset_index()\n",
    "mainCategorySuccess"
   ]
  },
  {
   "cell_type": "code",
   "execution_count": 42,
   "metadata": {},
   "outputs": [
    {
     "data": {
      "image/png": "[encoded data removed]",
      "text/plain": [
       "<Figure size 432x288 with 1 Axes>"
      ]
     },
     "metadata": {
      "needs_background": "light"
     },
     "output_type": "display_data"
    }
   ],
   "source": [
    "sns.barplot(x= 'main_category', y='success', data=mainCategorySuccess)\n",
    "plt.xticks(rotation=60)\n",
    "plt.savefig('main_category', dpi =150, transparent=True, bbox_inches='tight', pad_inches=0)\n"
   ]
  },
  {
   "cell_type": "code",
   "execution_count": 43,
   "metadata": {},
   "outputs": [
    {
     "data": {
      "text/html": [
       "<div>\n",
       "<style scoped>\n",
       "    .dataframe tbody tr th:only-of-type {\n",
       "        vertical-align: middle;\n",
       "    }\n",
       "\n",
       "    .dataframe tbody tr th {\n",
       "        vertical-align: top;\n",
       "    }\n",
       "\n",
       "    .dataframe thead th {\n",
       "        text-align: right;\n",
       "    }\n",
       "</style>\n",
       "<table border=\"1\" class=\"dataframe\">\n",
       "  <thead>\n",
       "    <tr style=\"text-align: right;\">\n",
       "      <th></th>\n",
       "      <th>category</th>\n",
       "      <th>success</th>\n",
       "    </tr>\n",
       "  </thead>\n",
       "  <tbody>\n",
       "    <tr>\n",
       "      <th>0</th>\n",
       "      <td>Chiptune</td>\n",
       "      <td>0.771429</td>\n",
       "    </tr>\n",
       "    <tr>\n",
       "      <th>1</th>\n",
       "      <td>Residencies</td>\n",
       "      <td>0.724638</td>\n",
       "    </tr>\n",
       "    <tr>\n",
       "      <th>2</th>\n",
       "      <td>Anthologies</td>\n",
       "      <td>0.672258</td>\n",
       "    </tr>\n",
       "    <tr>\n",
       "      <th>3</th>\n",
       "      <td>Dance</td>\n",
       "      <td>0.665516</td>\n",
       "    </tr>\n",
       "    <tr>\n",
       "      <th>4</th>\n",
       "      <td>Letterpress</td>\n",
       "      <td>0.645833</td>\n",
       "    </tr>\n",
       "    <tr>\n",
       "      <th>...</th>\n",
       "      <td>...</td>\n",
       "      <td>...</td>\n",
       "    </tr>\n",
       "    <tr>\n",
       "      <th>154</th>\n",
       "      <td>Software</td>\n",
       "      <td>0.122929</td>\n",
       "    </tr>\n",
       "    <tr>\n",
       "      <th>155</th>\n",
       "      <td>Video</td>\n",
       "      <td>0.119718</td>\n",
       "    </tr>\n",
       "    <tr>\n",
       "      <th>156</th>\n",
       "      <td>Web</td>\n",
       "      <td>0.086914</td>\n",
       "    </tr>\n",
       "    <tr>\n",
       "      <th>157</th>\n",
       "      <td>Mobile Games</td>\n",
       "      <td>0.086538</td>\n",
       "    </tr>\n",
       "    <tr>\n",
       "      <th>158</th>\n",
       "      <td>Apps</td>\n",
       "      <td>0.060326</td>\n",
       "    </tr>\n",
       "  </tbody>\n",
       "</table>\n",
       "<p>159 rows × 2 columns</p>\n",
       "</div>"
      ],
      "text/plain": [
       "         category   success\n",
       "0        Chiptune  0.771429\n",
       "1     Residencies  0.724638\n",
       "2     Anthologies  0.672258\n",
       "3           Dance  0.665516\n",
       "4     Letterpress  0.645833\n",
       "..            ...       ...\n",
       "154      Software  0.122929\n",
       "155         Video  0.119718\n",
       "156           Web  0.086914\n",
       "157  Mobile Games  0.086538\n",
       "158          Apps  0.060326\n",
       "\n",
       "[159 rows x 2 columns]"
      ]
     },
     "execution_count": 43,
     "metadata": {},
     "output_type": "execute_result"
    }
   ],
   "source": [
    "CategorySuccess = dataframe[['category','success']]\n",
    "CategorySuccess = CategorySuccess.groupby(['category']).mean().sort_values(by=['success'], ascending = False).reset_index()\n",
    "CategorySuccess"
   ]
  },
  {
   "cell_type": "code",
   "execution_count": 44,
   "metadata": {},
   "outputs": [
    {
     "data": {
      "image/png": "[encoded data removed]",
      "text/plain": [
       "<Figure size 432x288 with 1 Axes>"
      ]
     },
     "metadata": {
      "needs_background": "light"
     },
     "output_type": "display_data"
    }
   ],
   "source": [
    "# plt.figure(figsize=(20,10))\n",
    "\n",
    "sns.barplot(x= 'category', y='success', data=CategorySuccess[:159:5])\n",
    "plt.xticks(rotation=90)\n",
    "plt.savefig('sub_category', dpi =150, transparent=True, bbox_inches='tight', pad_inches=0)"
   ]
  },
  {
   "cell_type": "code",
   "execution_count": 45,
   "metadata": {},
   "outputs": [],
   "source": [
    "currencySuccess = dataframe[['currency','success']]\n",
    "currencySuccess = currencySuccess.groupby(['currency']).mean().sort_values(by = 'success')\n",
    "currencySuccess =currencySuccess.reset_index()"
   ]
  },
  {
   "cell_type": "code",
   "execution_count": 46,
   "metadata": {},
   "outputs": [
    {
     "data": {
      "text/html": [
       "<div>\n",
       "<style scoped>\n",
       "    .dataframe tbody tr th:only-of-type {\n",
       "        vertical-align: middle;\n",
       "    }\n",
       "\n",
       "    .dataframe tbody tr th {\n",
       "        vertical-align: top;\n",
       "    }\n",
       "\n",
       "    .dataframe thead th {\n",
       "        text-align: right;\n",
       "    }\n",
       "</style>\n",
       "<table border=\"1\" class=\"dataframe\">\n",
       "  <thead>\n",
       "    <tr style=\"text-align: right;\">\n",
       "      <th></th>\n",
       "      <th>currency</th>\n",
       "      <th>success</th>\n",
       "    </tr>\n",
       "  </thead>\n",
       "  <tbody>\n",
       "    <tr>\n",
       "      <th>0</th>\n",
       "      <td>JPY</td>\n",
       "      <td>0.225806</td>\n",
       "    </tr>\n",
       "    <tr>\n",
       "      <th>1</th>\n",
       "      <td>EUR</td>\n",
       "      <td>0.227337</td>\n",
       "    </tr>\n",
       "    <tr>\n",
       "      <th>2</th>\n",
       "      <td>NOK</td>\n",
       "      <td>0.228291</td>\n",
       "    </tr>\n",
       "    <tr>\n",
       "      <th>3</th>\n",
       "      <td>MXN</td>\n",
       "      <td>0.240729</td>\n",
       "    </tr>\n",
       "    <tr>\n",
       "      <th>4</th>\n",
       "      <td>CHF</td>\n",
       "      <td>0.248340</td>\n",
       "    </tr>\n",
       "    <tr>\n",
       "      <th>5</th>\n",
       "      <td>AUD</td>\n",
       "      <td>0.255203</td>\n",
       "    </tr>\n",
       "    <tr>\n",
       "      <th>6</th>\n",
       "      <td>CAD</td>\n",
       "      <td>0.278913</td>\n",
       "    </tr>\n",
       "    <tr>\n",
       "      <th>7</th>\n",
       "      <td>SEK</td>\n",
       "      <td>0.287896</td>\n",
       "    </tr>\n",
       "    <tr>\n",
       "      <th>8</th>\n",
       "      <td>NZD</td>\n",
       "      <td>0.306011</td>\n",
       "    </tr>\n",
       "    <tr>\n",
       "      <th>9</th>\n",
       "      <td>DKK</td>\n",
       "      <td>0.325247</td>\n",
       "    </tr>\n",
       "    <tr>\n",
       "      <th>10</th>\n",
       "      <td>SGD</td>\n",
       "      <td>0.337761</td>\n",
       "    </tr>\n",
       "    <tr>\n",
       "      <th>11</th>\n",
       "      <td>GBP</td>\n",
       "      <td>0.356866</td>\n",
       "    </tr>\n",
       "    <tr>\n",
       "      <th>12</th>\n",
       "      <td>HKD</td>\n",
       "      <td>0.370497</td>\n",
       "    </tr>\n",
       "    <tr>\n",
       "      <th>13</th>\n",
       "      <td>USD</td>\n",
       "      <td>0.372521</td>\n",
       "    </tr>\n",
       "  </tbody>\n",
       "</table>\n",
       "</div>"
      ],
      "text/plain": [
       "   currency   success\n",
       "0       JPY  0.225806\n",
       "1       EUR  0.227337\n",
       "2       NOK  0.228291\n",
       "3       MXN  0.240729\n",
       "4       CHF  0.248340\n",
       "5       AUD  0.255203\n",
       "6       CAD  0.278913\n",
       "7       SEK  0.287896\n",
       "8       NZD  0.306011\n",
       "9       DKK  0.325247\n",
       "10      SGD  0.337761\n",
       "11      GBP  0.356866\n",
       "12      HKD  0.370497\n",
       "13      USD  0.372521"
      ]
     },
     "execution_count": 46,
     "metadata": {},
     "output_type": "execute_result"
    }
   ],
   "source": [
    "currencySuccess"
   ]
  },
  {
   "cell_type": "code",
   "execution_count": 47,
   "metadata": {},
   "outputs": [
    {
     "data": {
      "text/plain": [
       "(array([ 0,  1,  2,  3,  4,  5,  6,  7,  8,  9, 10, 11, 12, 13]),\n",
       " <a list of 14 Text xticklabel objects>)"
      ]
     },
     "execution_count": 47,
     "metadata": {},
     "output_type": "execute_result"
    },
    {
     "data": {
      "image/png": "[encoded data removed]",
      "text/plain": [
       "<Figure size 1440x720 with 1 Axes>"
      ]
     },
     "metadata": {
      "needs_background": "light"
     },
     "output_type": "display_data"
    }
   ],
   "source": [
    "plt.figure(figsize=(20,10))\n",
    "sns.barplot(x= 'currency', y='success', data=currencySuccess)\n",
    "plt.xticks(rotation=90)"
   ]
  },
  {
   "cell_type": "code",
   "execution_count": 48,
   "metadata": {},
   "outputs": [],
   "source": [
    "countrySuccess = dataframe[['country','success']]\n",
    "countrySuccess = countrySuccess.groupby(['country']).mean().sort_values(by='success')\n",
    "countrySuccess =countrySuccess.reset_index()"
   ]
  },
  {
   "cell_type": "code",
   "execution_count": 49,
   "metadata": {},
   "outputs": [
    {
     "data": {
      "text/plain": [
       "(array([ 0,  1,  2,  3,  4,  5,  6,  7,  8,  9, 10, 11, 12, 13, 14, 15, 16,\n",
       "        17, 18, 19, 20, 21, 22]), <a list of 23 Text xticklabel objects>)"
      ]
     },
     "execution_count": 49,
     "metadata": {},
     "output_type": "execute_result"
    },
    {
     "data": {
      "image/png": "[encoded data removed]",
      "text/plain": [
       "<Figure size 1440x720 with 1 Axes>"
      ]
     },
     "metadata": {
      "needs_background": "light"
     },
     "output_type": "display_data"
    }
   ],
   "source": [
    "plt.figure(figsize=(20,10))\n",
    "sns.barplot(x= 'country', y='success', data=countrySuccess)\n",
    "plt.xticks(rotation=90)"
   ]
  },
  {
   "cell_type": "code",
   "execution_count": 50,
   "metadata": {},
   "outputs": [
    {
     "data": {
      "text/plain": [
       "<matplotlib.axes._subplots.AxesSubplot at 0x7f5db7755c50>"
      ]
     },
     "execution_count": 50,
     "metadata": {},
     "output_type": "execute_result"
    },
    {
     "data": {
      "image/png": "[encoded data removed]",
      "text/plain": [
       "<Figure size 432x288 with 1 Axes>"
      ]
     },
     "metadata": {
      "needs_background": "light"
     },
     "output_type": "display_data"
    }
   ],
   "source": [
    "goalSuccess = dataframe[['categorical_goal','success']]\n",
    "goalSuccess = goalSuccess.groupby(['categorical_goal']).mean()\n",
    "goalSuccess.plot()"
   ]
  },
  {
   "cell_type": "markdown",
   "metadata": {},
   "source": [
    "# at higher goal, low success rate. "
   ]
  },
  {
   "cell_type": "code",
   "execution_count": 51,
   "metadata": {},
   "outputs": [
    {
     "data": {
      "text/plain": [
       "<matplotlib.axes._subplots.AxesSubplot at 0x7f5db774f390>"
      ]
     },
     "execution_count": 51,
     "metadata": {},
     "output_type": "execute_result"
    },
    {
     "data": {
      "image/png": "[encoded data removed]",
      "text/plain": [
       "<Figure size 432x288 with 1 Axes>"
      ]
     },
     "metadata": {
      "needs_background": "light"
     },
     "output_type": "display_data"
    }
   ],
   "source": [
    "backerSuccess = dataframe[['categorical_backers','success']]\n",
    "backerSuccess = backerSuccess.groupby(['categorical_backers']).mean()\n",
    "backerSuccess.plot()"
   ]
  },
  {
   "cell_type": "markdown",
   "metadata": {},
   "source": [
    "# more backers successrate is high"
   ]
  },
  {
   "cell_type": "code",
   "execution_count": 52,
   "metadata": {},
   "outputs": [
    {
     "data": {
      "text/html": [
       "<div>\n",
       "<style scoped>\n",
       "    .dataframe tbody tr th:only-of-type {\n",
       "        vertical-align: middle;\n",
       "    }\n",
       "\n",
       "    .dataframe tbody tr th {\n",
       "        vertical-align: top;\n",
       "    }\n",
       "\n",
       "    .dataframe thead th {\n",
       "        text-align: right;\n",
       "    }\n",
       "</style>\n",
       "<table border=\"1\" class=\"dataframe\">\n",
       "  <thead>\n",
       "    <tr style=\"text-align: right;\">\n",
       "      <th></th>\n",
       "      <th>category</th>\n",
       "      <th>main_category</th>\n",
       "      <th>currency</th>\n",
       "      <th>country</th>\n",
       "      <th>success</th>\n",
       "      <th>total_year</th>\n",
       "      <th>total_month</th>\n",
       "      <th>total_day</th>\n",
       "      <th>total_hour</th>\n",
       "      <th>categorical_goal</th>\n",
       "      <th>categorical_backers</th>\n",
       "    </tr>\n",
       "  </thead>\n",
       "  <tbody>\n",
       "    <tr>\n",
       "      <th>0</th>\n",
       "      <td>108</td>\n",
       "      <td>12</td>\n",
       "      <td>5</td>\n",
       "      <td>9</td>\n",
       "      <td>0</td>\n",
       "      <td>0</td>\n",
       "      <td>2</td>\n",
       "      <td>57</td>\n",
       "      <td>1379</td>\n",
       "      <td>0</td>\n",
       "      <td>0</td>\n",
       "    </tr>\n",
       "    <tr>\n",
       "      <th>1</th>\n",
       "      <td>93</td>\n",
       "      <td>6</td>\n",
       "      <td>13</td>\n",
       "      <td>22</td>\n",
       "      <td>0</td>\n",
       "      <td>0</td>\n",
       "      <td>2</td>\n",
       "      <td>58</td>\n",
       "      <td>1411</td>\n",
       "      <td>2</td>\n",
       "      <td>1</td>\n",
       "    </tr>\n",
       "    <tr>\n",
       "      <th>2</th>\n",
       "      <td>93</td>\n",
       "      <td>6</td>\n",
       "      <td>13</td>\n",
       "      <td>22</td>\n",
       "      <td>0</td>\n",
       "      <td>0</td>\n",
       "      <td>1</td>\n",
       "      <td>43</td>\n",
       "      <td>1055</td>\n",
       "      <td>2</td>\n",
       "      <td>1</td>\n",
       "    </tr>\n",
       "    <tr>\n",
       "      <th>3</th>\n",
       "      <td>90</td>\n",
       "      <td>10</td>\n",
       "      <td>13</td>\n",
       "      <td>22</td>\n",
       "      <td>0</td>\n",
       "      <td>0</td>\n",
       "      <td>1</td>\n",
       "      <td>28</td>\n",
       "      <td>692</td>\n",
       "      <td>1</td>\n",
       "      <td>0</td>\n",
       "    </tr>\n",
       "    <tr>\n",
       "      <th>4</th>\n",
       "      <td>55</td>\n",
       "      <td>6</td>\n",
       "      <td>13</td>\n",
       "      <td>22</td>\n",
       "      <td>0</td>\n",
       "      <td>0</td>\n",
       "      <td>1</td>\n",
       "      <td>54</td>\n",
       "      <td>1311</td>\n",
       "      <td>2</td>\n",
       "      <td>1</td>\n",
       "    </tr>\n",
       "    <tr>\n",
       "      <th>...</th>\n",
       "      <td>...</td>\n",
       "      <td>...</td>\n",
       "      <td>...</td>\n",
       "      <td>...</td>\n",
       "      <td>...</td>\n",
       "      <td>...</td>\n",
       "      <td>...</td>\n",
       "      <td>...</td>\n",
       "      <td>...</td>\n",
       "      <td>...</td>\n",
       "      <td>...</td>\n",
       "    </tr>\n",
       "    <tr>\n",
       "      <th>378656</th>\n",
       "      <td>39</td>\n",
       "      <td>6</td>\n",
       "      <td>13</td>\n",
       "      <td>22</td>\n",
       "      <td>0</td>\n",
       "      <td>0</td>\n",
       "      <td>1</td>\n",
       "      <td>29</td>\n",
       "      <td>717</td>\n",
       "      <td>3</td>\n",
       "      <td>0</td>\n",
       "    </tr>\n",
       "    <tr>\n",
       "      <th>378657</th>\n",
       "      <td>93</td>\n",
       "      <td>6</td>\n",
       "      <td>13</td>\n",
       "      <td>22</td>\n",
       "      <td>0</td>\n",
       "      <td>0</td>\n",
       "      <td>1</td>\n",
       "      <td>26</td>\n",
       "      <td>644</td>\n",
       "      <td>0</td>\n",
       "      <td>1</td>\n",
       "    </tr>\n",
       "    <tr>\n",
       "      <th>378658</th>\n",
       "      <td>93</td>\n",
       "      <td>6</td>\n",
       "      <td>13</td>\n",
       "      <td>22</td>\n",
       "      <td>0</td>\n",
       "      <td>0</td>\n",
       "      <td>1</td>\n",
       "      <td>44</td>\n",
       "      <td>1060</td>\n",
       "      <td>2</td>\n",
       "      <td>0</td>\n",
       "    </tr>\n",
       "    <tr>\n",
       "      <th>378659</th>\n",
       "      <td>138</td>\n",
       "      <td>13</td>\n",
       "      <td>13</td>\n",
       "      <td>22</td>\n",
       "      <td>0</td>\n",
       "      <td>0</td>\n",
       "      <td>1</td>\n",
       "      <td>29</td>\n",
       "      <td>701</td>\n",
       "      <td>2</td>\n",
       "      <td>1</td>\n",
       "    </tr>\n",
       "    <tr>\n",
       "      <th>378660</th>\n",
       "      <td>98</td>\n",
       "      <td>0</td>\n",
       "      <td>13</td>\n",
       "      <td>22</td>\n",
       "      <td>0</td>\n",
       "      <td>0</td>\n",
       "      <td>1</td>\n",
       "      <td>26</td>\n",
       "      <td>638</td>\n",
       "      <td>0</td>\n",
       "      <td>1</td>\n",
       "    </tr>\n",
       "  </tbody>\n",
       "</table>\n",
       "<p>375854 rows × 11 columns</p>\n",
       "</div>"
      ],
      "text/plain": [
       "        category  main_category  currency  country  success  total_year  \\\n",
       "0            108             12         5        9        0           0   \n",
       "1             93              6        13       22        0           0   \n",
       "2             93              6        13       22        0           0   \n",
       "3             90             10        13       22        0           0   \n",
       "4             55              6        13       22        0           0   \n",
       "...          ...            ...       ...      ...      ...         ...   \n",
       "378656        39              6        13       22        0           0   \n",
       "378657        93              6        13       22        0           0   \n",
       "378658        93              6        13       22        0           0   \n",
       "378659       138             13        13       22        0           0   \n",
       "378660        98              0        13       22        0           0   \n",
       "\n",
       "        total_month  total_day  total_hour  categorical_goal  \\\n",
       "0                 2         57        1379                 0   \n",
       "1                 2         58        1411                 2   \n",
       "2                 1         43        1055                 2   \n",
       "3                 1         28         692                 1   \n",
       "4                 1         54        1311                 2   \n",
       "...             ...        ...         ...               ...   \n",
       "378656            1         29         717                 3   \n",
       "378657            1         26         644                 0   \n",
       "378658            1         44        1060                 2   \n",
       "378659            1         29         701                 2   \n",
       "378660            1         26         638                 0   \n",
       "\n",
       "        categorical_backers  \n",
       "0                         0  \n",
       "1                         1  \n",
       "2                         1  \n",
       "3                         0  \n",
       "4                         1  \n",
       "...                     ...  \n",
       "378656                    0  \n",
       "378657                    1  \n",
       "378658                    0  \n",
       "378659                    1  \n",
       "378660                    1  \n",
       "\n",
       "[375854 rows x 11 columns]"
      ]
     },
     "execution_count": 52,
     "metadata": {},
     "output_type": "execute_result"
    }
   ],
   "source": [
    "from sklearn.preprocessing import LabelEncoder\n",
    "encoder = LabelEncoder()\n",
    "data_final = dataframe.apply(encoder.fit_transform)\n",
    "\n",
    "data_final"
   ]
  },
  {
   "cell_type": "markdown",
   "metadata": {},
   "source": [
    "# splitting the data"
   ]
  },
  {
   "cell_type": "code",
   "execution_count": 53,
   "metadata": {},
   "outputs": [
    {
     "data": {
      "text/plain": [
       "Index(['category', 'main_category', 'currency', 'country', 'success',\n",
       "       'total_year', 'total_month', 'total_day', 'total_hour',\n",
       "       'categorical_goal', 'categorical_backers'],\n",
       "      dtype='object')"
      ]
     },
     "execution_count": 53,
     "metadata": {},
     "output_type": "execute_result"
    }
   ],
   "source": [
    "data_final.columns"
   ]
  },
  {
   "cell_type": "code",
   "execution_count": null,
   "metadata": {},
   "outputs": [],
   "source": []
  },
  {
   "cell_type": "code",
   "execution_count": 54,
   "metadata": {
    "scrolled": false
   },
   "outputs": [],
   "source": [
    "y = data_final['success']\n",
    "X = data_final.drop('success', axis=1)"
   ]
  },
  {
   "cell_type": "code",
   "execution_count": 55,
   "metadata": {},
   "outputs": [],
   "source": [
    "from sklearn.model_selection import train_test_split\n",
    "X_train, X_test, y_train, y_test = train_test_split(X, y, test_size=0.3, random_state=0, shuffle=True)"
   ]
  },
  {
   "cell_type": "code",
   "execution_count": 56,
   "metadata": {},
   "outputs": [
    {
     "name": "stdout",
     "output_type": "stream",
     "text": [
      "X_train_shape:  (263097, 10)\n",
      "y_train_shape:  (263097,)\n",
      "X_test_shape:  (112757, 10)\n",
      "y_test_shape:  (112757,)\n"
     ]
    }
   ],
   "source": [
    "print('X_train_shape: ', X_train.shape)\n",
    "print('y_train_shape: ', y_train.shape)\n",
    "\n",
    "print('X_test_shape: ', X_test.shape)\n",
    "print('y_test_shape: ', y_test.shape)"
   ]
  },
  {
   "cell_type": "code",
   "execution_count": 57,
   "metadata": {},
   "outputs": [],
   "source": [
    "df_result = pd.DataFrame()\n",
    "df_result['y_test'] = y_test"
   ]
  },
  {
   "cell_type": "markdown",
   "metadata": {},
   "source": [
    "# Logitistic Regression"
   ]
  },
  {
   "cell_type": "code",
   "execution_count": 95,
   "metadata": {},
   "outputs": [
    {
     "name": "stdout",
     "output_type": "stream",
     "text": [
      "Logistic regression Accuracy:  87.0 %\n"
     ]
    }
   ],
   "source": [
    "\n",
    "from sklearn.linear_model import LogisticRegression\n",
    "reg_log = LogisticRegression(random_state=0)\n",
    "reg_log.fit(X_train, y_train)\n",
    "df_result['y_pred'] = reg_log.predict(X_test)\n",
    "from sklearn.metrics import accuracy_score, confusion_matrix, classification_report\n",
    "print('Logistic regression Accuracy: ', round(accuracy_score(df_result['y_test'], df_result['y_pred']),2 )*100 , '%')"
   ]
  },
  {
   "cell_type": "markdown",
   "metadata": {},
   "source": [
    "# Neural Network"
   ]
  },
  {
   "cell_type": "code",
   "execution_count": 60,
   "metadata": {},
   "outputs": [
    {
     "data": {
      "text/plain": [
       "10"
      ]
     },
     "execution_count": 60,
     "metadata": {},
     "output_type": "execute_result"
    }
   ],
   "source": [
    "n_features = X_train.shape[1]\n",
    "n_features"
   ]
  },
  {
   "cell_type": "markdown",
   "metadata": {},
   "source": [
    "# Neural Network"
   ]
  },
  {
   "cell_type": "code",
   "execution_count": 66,
   "metadata": {
    "scrolled": false
   },
   "outputs": [
    {
     "name": "stdout",
     "output_type": "stream",
     "text": [
      "Train on 263097 samples, validate on 112757 samples\n",
      "Epoch 1/100\n",
      "263097/263097 [==============================] - 6s 21us/sample - loss: 0.8065 - accuracy: 0.6284 - val_loss: 0.5760 - val_accuracy: 0.6871\n",
      "Epoch 2/100\n",
      "263097/263097 [==============================] - 5s 18us/sample - loss: 0.5183 - accuracy: 0.7650 - val_loss: 0.3206 - val_accuracy: 0.8576\n",
      "Epoch 3/100\n",
      "263097/263097 [==============================] - 5s 20us/sample - loss: 0.4354 - accuracy: 0.8067 - val_loss: 0.3107 - val_accuracy: 0.8561\n",
      "Epoch 4/100\n",
      "263097/263097 [==============================] - 5s 19us/sample - loss: 0.3954 - accuracy: 0.8257 - val_loss: 0.3087 - val_accuracy: 0.8528\n",
      "Epoch 5/100\n",
      "263097/263097 [==============================] - 5s 20us/sample - loss: 0.3745 - accuracy: 0.8355 - val_loss: 0.4606 - val_accuracy: 0.8043\n",
      "Epoch 6/100\n",
      "263097/263097 [==============================] - 5s 19us/sample - loss: 0.3599 - accuracy: 0.8411 - val_loss: 0.3223 - val_accuracy: 0.8549\n",
      "Epoch 7/100\n",
      "263097/263097 [==============================] - 5s 19us/sample - loss: 0.3474 - accuracy: 0.8440 - val_loss: 0.2839 - val_accuracy: 0.8690\n",
      "Epoch 8/100\n",
      "263097/263097 [==============================] - 5s 19us/sample - loss: 0.3359 - accuracy: 0.8482 - val_loss: 0.3037 - val_accuracy: 0.8509\n",
      "Epoch 9/100\n",
      "263097/263097 [==============================] - 5s 19us/sample - loss: 0.3248 - accuracy: 0.8519 - val_loss: 0.2865 - val_accuracy: 0.8675\n",
      "Epoch 10/100\n",
      "263097/263097 [==============================] - 5s 19us/sample - loss: 0.3183 - accuracy: 0.8539 - val_loss: 0.2791 - val_accuracy: 0.8732\n",
      "Epoch 11/100\n",
      "263097/263097 [==============================] - 5s 19us/sample - loss: 0.3104 - accuracy: 0.8551 - val_loss: 0.2983 - val_accuracy: 0.8484\n",
      "Epoch 12/100\n",
      "263097/263097 [==============================] - 5s 19us/sample - loss: 0.3029 - accuracy: 0.8592 - val_loss: 0.3101 - val_accuracy: 0.8489\n",
      "Epoch 13/100\n",
      "263097/263097 [==============================] - 5s 19us/sample - loss: 0.2980 - accuracy: 0.8622 - val_loss: 0.3009 - val_accuracy: 0.8480\n",
      "Epoch 14/100\n",
      "263097/263097 [==============================] - 5s 19us/sample - loss: 0.2955 - accuracy: 0.8634 - val_loss: 0.2901 - val_accuracy: 0.8685\n",
      "Epoch 15/100\n",
      "263097/263097 [==============================] - 5s 19us/sample - loss: 0.2936 - accuracy: 0.8633 - val_loss: 0.2779 - val_accuracy: 0.8651\n",
      "Epoch 16/100\n",
      "263097/263097 [==============================] - 5s 19us/sample - loss: 0.2910 - accuracy: 0.8642 - val_loss: 0.2808 - val_accuracy: 0.8605\n",
      "Epoch 17/100\n",
      "263097/263097 [==============================] - 5s 19us/sample - loss: 0.2886 - accuracy: 0.8649 - val_loss: 0.2898 - val_accuracy: 0.8683\n",
      "Epoch 18/100\n",
      "263097/263097 [==============================] - 5s 19us/sample - loss: 0.2867 - accuracy: 0.8658 - val_loss: 0.3023 - val_accuracy: 0.8624\n",
      "Epoch 19/100\n",
      "263097/263097 [==============================] - 6s 21us/sample - loss: 0.2850 - accuracy: 0.8660 - val_loss: 0.2754 - val_accuracy: 0.8669\n",
      "Epoch 20/100\n",
      "263097/263097 [==============================] - 5s 19us/sample - loss: 0.2836 - accuracy: 0.8666 - val_loss: 0.2751 - val_accuracy: 0.8710\n",
      "Epoch 21/100\n",
      "263097/263097 [==============================] - 5s 20us/sample - loss: 0.2821 - accuracy: 0.8675 - val_loss: 0.3434 - val_accuracy: 0.8501\n",
      "Epoch 22/100\n",
      "263097/263097 [==============================] - 5s 21us/sample - loss: 0.2811 - accuracy: 0.8672 - val_loss: 0.2956 - val_accuracy: 0.8641\n",
      "Epoch 23/100\n",
      "263097/263097 [==============================] - 5s 19us/sample - loss: 0.2804 - accuracy: 0.8683 - val_loss: 0.2710 - val_accuracy: 0.8739\n",
      "Epoch 24/100\n",
      "263097/263097 [==============================] - 5s 19us/sample - loss: 0.2802 - accuracy: 0.8678 - val_loss: 0.2805 - val_accuracy: 0.8719\n",
      "Epoch 25/100\n",
      "263097/263097 [==============================] - 5s 19us/sample - loss: 0.2791 - accuracy: 0.8684 - val_loss: 0.2739 - val_accuracy: 0.8754\n",
      "Epoch 26/100\n",
      "263097/263097 [==============================] - 5s 19us/sample - loss: 0.2783 - accuracy: 0.8690 - val_loss: 0.3448 - val_accuracy: 0.8444\n",
      "Epoch 27/100\n",
      "263097/263097 [==============================] - 5s 19us/sample - loss: 0.2782 - accuracy: 0.8691 - val_loss: 0.2827 - val_accuracy: 0.8739\n",
      "Epoch 28/100\n",
      "263097/263097 [==============================] - 5s 19us/sample - loss: 0.2777 - accuracy: 0.8692 - val_loss: 0.2939 - val_accuracy: 0.8663\n",
      "Epoch 29/100\n",
      "263097/263097 [==============================] - 5s 20us/sample - loss: 0.2776 - accuracy: 0.8697 - val_loss: 0.2879 - val_accuracy: 0.8513\n",
      "Epoch 30/100\n",
      "263097/263097 [==============================] - 5s 19us/sample - loss: 0.2773 - accuracy: 0.8696 - val_loss: 0.2730 - val_accuracy: 0.8644\n",
      "Epoch 31/100\n",
      "263097/263097 [==============================] - 5s 19us/sample - loss: 0.2771 - accuracy: 0.8696 - val_loss: 0.2717 - val_accuracy: 0.8732\n",
      "Epoch 32/100\n",
      "263097/263097 [==============================] - 5s 19us/sample - loss: 0.2769 - accuracy: 0.8694 - val_loss: 0.2873 - val_accuracy: 0.8707\n",
      "Epoch 33/100\n",
      "263097/263097 [==============================] - 5s 19us/sample - loss: 0.2766 - accuracy: 0.8703 - val_loss: 0.2743 - val_accuracy: 0.8747\n",
      "Epoch 34/100\n",
      "263097/263097 [==============================] - 5s 19us/sample - loss: 0.2765 - accuracy: 0.8699 - val_loss: 0.2713 - val_accuracy: 0.8722\n",
      "Epoch 35/100\n",
      "263097/263097 [==============================] - 5s 19us/sample - loss: 0.2762 - accuracy: 0.8705 - val_loss: 0.2815 - val_accuracy: 0.8726\n",
      "Epoch 36/100\n",
      "263097/263097 [==============================] - 5s 21us/sample - loss: 0.2767 - accuracy: 0.8709 - val_loss: 0.2729 - val_accuracy: 0.8749\n",
      "Epoch 37/100\n",
      "263097/263097 [==============================] - 5s 21us/sample - loss: 0.2764 - accuracy: 0.8699 - val_loss: 0.2760 - val_accuracy: 0.8746\n",
      "Epoch 38/100\n",
      "263097/263097 [==============================] - 5s 21us/sample - loss: 0.2759 - accuracy: 0.8707 - val_loss: 0.2752 - val_accuracy: 0.8667\n",
      "Epoch 39/100\n",
      "263097/263097 [==============================] - 5s 19us/sample - loss: 0.2759 - accuracy: 0.8711 - val_loss: 0.2722 - val_accuracy: 0.8750\n",
      "Epoch 40/100\n",
      "263097/263097 [==============================] - 5s 19us/sample - loss: 0.2757 - accuracy: 0.8708 - val_loss: 0.2755 - val_accuracy: 0.8631\n",
      "Epoch 41/100\n",
      "263097/263097 [==============================] - 5s 19us/sample - loss: 0.2755 - accuracy: 0.8707 - val_loss: 0.2732 - val_accuracy: 0.8709\n",
      "Epoch 42/100\n",
      "263097/263097 [==============================] - 5s 19us/sample - loss: 0.2754 - accuracy: 0.8714 - val_loss: 0.2762 - val_accuracy: 0.8620\n",
      "Epoch 43/100\n",
      "263097/263097 [==============================] - 5s 20us/sample - loss: 0.2750 - accuracy: 0.8713 - val_loss: 0.2738 - val_accuracy: 0.8693\n",
      "Epoch 44/100\n",
      "263097/263097 [==============================] - 5s 19us/sample - loss: 0.2752 - accuracy: 0.8705 - val_loss: 0.2924 - val_accuracy: 0.8528\n",
      "Epoch 45/100\n",
      "263097/263097 [==============================] - 5s 19us/sample - loss: 0.2746 - accuracy: 0.8714 - val_loss: 0.2770 - val_accuracy: 0.8590\n",
      "Epoch 46/100\n",
      "263097/263097 [==============================] - 5s 19us/sample - loss: 0.2750 - accuracy: 0.8711 - val_loss: 0.2715 - val_accuracy: 0.8720\n",
      "Epoch 47/100\n",
      "263097/263097 [==============================] - 5s 19us/sample - loss: 0.2747 - accuracy: 0.8711 - val_loss: 0.2706 - val_accuracy: 0.8753\n",
      "Epoch 48/100\n",
      "263097/263097 [==============================] - 5s 19us/sample - loss: 0.2745 - accuracy: 0.8709 - val_loss: 0.2700 - val_accuracy: 0.8759\n",
      "Epoch 49/100\n",
      "263097/263097 [==============================] - 5s 19us/sample - loss: 0.2742 - accuracy: 0.8722 - val_loss: 0.2771 - val_accuracy: 0.8642\n",
      "Epoch 50/100\n",
      "263097/263097 [==============================] - 5s 19us/sample - loss: 0.2739 - accuracy: 0.8721 - val_loss: 0.2749 - val_accuracy: 0.8723\n",
      "Epoch 51/100\n",
      "263097/263097 [==============================] - 5s 19us/sample - loss: 0.2739 - accuracy: 0.8719 - val_loss: 0.2705 - val_accuracy: 0.8748\n",
      "Epoch 52/100\n",
      "263097/263097 [==============================] - 6s 21us/sample - loss: 0.2739 - accuracy: 0.8721 - val_loss: 0.2735 - val_accuracy: 0.8620\n",
      "Epoch 53/100\n",
      "263097/263097 [==============================] - 5s 20us/sample - loss: 0.2737 - accuracy: 0.8722 - val_loss: 0.2702 - val_accuracy: 0.8756\n",
      "Epoch 54/100\n"
     ]
    },
    {
     "name": "stdout",
     "output_type": "stream",
     "text": [
      "263097/263097 [==============================] - 5s 18us/sample - loss: 0.2740 - accuracy: 0.8721 - val_loss: 0.2710 - val_accuracy: 0.8741\n",
      "Epoch 55/100\n",
      "263097/263097 [==============================] - 5s 18us/sample - loss: 0.2738 - accuracy: 0.8721 - val_loss: 0.2716 - val_accuracy: 0.8756\n",
      "Epoch 56/100\n",
      "263097/263097 [==============================] - 5s 19us/sample - loss: 0.2737 - accuracy: 0.8721 - val_loss: 0.2803 - val_accuracy: 0.8730\n",
      "Epoch 57/100\n",
      "263097/263097 [==============================] - 5s 18us/sample - loss: 0.2737 - accuracy: 0.8727 - val_loss: 0.2698 - val_accuracy: 0.8761\n",
      "Epoch 58/100\n",
      "263097/263097 [==============================] - 5s 18us/sample - loss: 0.2734 - accuracy: 0.8726 - val_loss: 0.2717 - val_accuracy: 0.8758\n",
      "Epoch 59/100\n",
      "263097/263097 [==============================] - 5s 18us/sample - loss: 0.2735 - accuracy: 0.8723 - val_loss: 0.2750 - val_accuracy: 0.8745\n",
      "Epoch 60/100\n",
      "263097/263097 [==============================] - 5s 18us/sample - loss: 0.2731 - accuracy: 0.8723 - val_loss: 0.2804 - val_accuracy: 0.8591\n",
      "Epoch 61/100\n",
      "263097/263097 [==============================] - 5s 19us/sample - loss: 0.2731 - accuracy: 0.8720 - val_loss: 0.2742 - val_accuracy: 0.8698\n",
      "Epoch 62/100\n",
      "263097/263097 [==============================] - 5s 20us/sample - loss: 0.2734 - accuracy: 0.8724 - val_loss: 0.2704 - val_accuracy: 0.8753\n",
      "Epoch 63/100\n",
      "263097/263097 [==============================] - 5s 19us/sample - loss: 0.2731 - accuracy: 0.8725 - val_loss: 0.2707 - val_accuracy: 0.8755\n",
      "Epoch 64/100\n",
      "263097/263097 [==============================] - 5s 20us/sample - loss: 0.2730 - accuracy: 0.8725 - val_loss: 0.2699 - val_accuracy: 0.8755\n",
      "Epoch 65/100\n",
      "263097/263097 [==============================] - 5s 20us/sample - loss: 0.2730 - accuracy: 0.8722 - val_loss: 0.2735 - val_accuracy: 0.8683\n",
      "Epoch 66/100\n",
      "263097/263097 [==============================] - 5s 19us/sample - loss: 0.2729 - accuracy: 0.8725 - val_loss: 0.2716 - val_accuracy: 0.8708\n",
      "Epoch 67/100\n",
      "263097/263097 [==============================] - 5s 19us/sample - loss: 0.2726 - accuracy: 0.8721 - val_loss: 0.2709 - val_accuracy: 0.8753\n",
      "Epoch 68/100\n",
      "263097/263097 [==============================] - 5s 19us/sample - loss: 0.2727 - accuracy: 0.8726 - val_loss: 0.2818 - val_accuracy: 0.8586\n",
      "Epoch 69/100\n",
      "263097/263097 [==============================] - 5s 19us/sample - loss: 0.2729 - accuracy: 0.8723 - val_loss: 0.2722 - val_accuracy: 0.8699\n",
      "Epoch 70/100\n",
      "263097/263097 [==============================] - 5s 19us/sample - loss: 0.2727 - accuracy: 0.8728 - val_loss: 0.2725 - val_accuracy: 0.8740\n",
      "Epoch 71/100\n",
      "263097/263097 [==============================] - 5s 19us/sample - loss: 0.2730 - accuracy: 0.8722 - val_loss: 0.2761 - val_accuracy: 0.8622\n",
      "Epoch 72/100\n",
      "263097/263097 [==============================] - 5s 19us/sample - loss: 0.2728 - accuracy: 0.8722 - val_loss: 0.2779 - val_accuracy: 0.8616\n",
      "Epoch 73/100\n",
      "263097/263097 [==============================] - 5s 19us/sample - loss: 0.2724 - accuracy: 0.8730 - val_loss: 0.2700 - val_accuracy: 0.8739\n",
      "Epoch 74/100\n",
      "263097/263097 [==============================] - 5s 19us/sample - loss: 0.2726 - accuracy: 0.8729 - val_loss: 0.2710 - val_accuracy: 0.8727\n",
      "Epoch 75/100\n",
      "263097/263097 [==============================] - 5s 19us/sample - loss: 0.2723 - accuracy: 0.8723 - val_loss: 0.2717 - val_accuracy: 0.8757\n",
      "Epoch 76/100\n",
      "263097/263097 [==============================] - 5s 20us/sample - loss: 0.2723 - accuracy: 0.8723 - val_loss: 0.2714 - val_accuracy: 0.8681\n",
      "Epoch 77/100\n",
      "263097/263097 [==============================] - 5s 19us/sample - loss: 0.2722 - accuracy: 0.8732 - val_loss: 0.2697 - val_accuracy: 0.8758\n",
      "Epoch 78/100\n",
      "263097/263097 [==============================] - 5s 19us/sample - loss: 0.2720 - accuracy: 0.8723 - val_loss: 0.2710 - val_accuracy: 0.8724\n",
      "Epoch 79/100\n",
      "263097/263097 [==============================] - 5s 19us/sample - loss: 0.2721 - accuracy: 0.8727 - val_loss: 0.2704 - val_accuracy: 0.8744\n",
      "Epoch 80/100\n",
      "263097/263097 [==============================] - 5s 19us/sample - loss: 0.2721 - accuracy: 0.8721 - val_loss: 0.2789 - val_accuracy: 0.8721\n",
      "Epoch 81/100\n",
      "263097/263097 [==============================] - 5s 19us/sample - loss: 0.2720 - accuracy: 0.8727 - val_loss: 0.2694 - val_accuracy: 0.8758\n",
      "Epoch 82/100\n",
      "263097/263097 [==============================] - 5s 19us/sample - loss: 0.2721 - accuracy: 0.8721 - val_loss: 0.2712 - val_accuracy: 0.8749\n",
      "Epoch 83/100\n",
      "263097/263097 [==============================] - 5s 20us/sample - loss: 0.2719 - accuracy: 0.8730 - val_loss: 0.2703 - val_accuracy: 0.8759\n",
      "Epoch 84/100\n",
      "263097/263097 [==============================] - 6s 22us/sample - loss: 0.2720 - accuracy: 0.8727 - val_loss: 0.2706 - val_accuracy: 0.8752\n",
      "Epoch 85/100\n",
      "263097/263097 [==============================] - 5s 19us/sample - loss: 0.2720 - accuracy: 0.8727 - val_loss: 0.2693 - val_accuracy: 0.8755\n",
      "Epoch 86/100\n",
      "263097/263097 [==============================] - 5s 20us/sample - loss: 0.2718 - accuracy: 0.8722 - val_loss: 0.2717 - val_accuracy: 0.8721\n",
      "Epoch 87/100\n",
      "263097/263097 [==============================] - 5s 19us/sample - loss: 0.2719 - accuracy: 0.8732 - val_loss: 0.2741 - val_accuracy: 0.8630\n",
      "Epoch 88/100\n",
      "263097/263097 [==============================] - 5s 19us/sample - loss: 0.2721 - accuracy: 0.8722 - val_loss: 0.2724 - val_accuracy: 0.8748\n",
      "Epoch 89/100\n",
      "263097/263097 [==============================] - 5s 19us/sample - loss: 0.2720 - accuracy: 0.8729 - val_loss: 0.2752 - val_accuracy: 0.8600\n",
      "Epoch 90/100\n",
      "263097/263097 [==============================] - 5s 19us/sample - loss: 0.2719 - accuracy: 0.8729 - val_loss: 0.2714 - val_accuracy: 0.8693\n",
      "Epoch 91/100\n",
      "263097/263097 [==============================] - 5s 20us/sample - loss: 0.2720 - accuracy: 0.8723 - val_loss: 0.2686 - val_accuracy: 0.8761\n",
      "Epoch 92/100\n",
      "263097/263097 [==============================] - 5s 20us/sample - loss: 0.2718 - accuracy: 0.8725 - val_loss: 0.2690 - val_accuracy: 0.8758\n",
      "Epoch 93/100\n",
      "263097/263097 [==============================] - 5s 20us/sample - loss: 0.2718 - accuracy: 0.8731 - val_loss: 0.2744 - val_accuracy: 0.8622\n",
      "Epoch 94/100\n",
      "263097/263097 [==============================] - 5s 19us/sample - loss: 0.2718 - accuracy: 0.8731 - val_loss: 0.2695 - val_accuracy: 0.8751\n",
      "Epoch 95/100\n",
      "263097/263097 [==============================] - 5s 19us/sample - loss: 0.2721 - accuracy: 0.8721 - val_loss: 0.2698 - val_accuracy: 0.8747\n",
      "Epoch 96/100\n",
      "263097/263097 [==============================] - 5s 19us/sample - loss: 0.2718 - accuracy: 0.8731 - val_loss: 0.2695 - val_accuracy: 0.8762\n",
      "Epoch 97/100\n",
      "263097/263097 [==============================] - 5s 20us/sample - loss: 0.2719 - accuracy: 0.8728 - val_loss: 0.2741 - val_accuracy: 0.8657\n",
      "Epoch 98/100\n",
      "263097/263097 [==============================] - 5s 20us/sample - loss: 0.2720 - accuracy: 0.8729 - val_loss: 0.2692 - val_accuracy: 0.8755\n",
      "Epoch 99/100\n",
      "263097/263097 [==============================] - 5s 20us/sample - loss: 0.2716 - accuracy: 0.8728 - val_loss: 0.2735 - val_accuracy: 0.8752\n",
      "Epoch 100/100\n",
      "263097/263097 [==============================] - 5s 20us/sample - loss: 0.2717 - accuracy: 0.8728 - val_loss: 0.2692 - val_accuracy: 0.8757\n"
     ]
    },
    {
     "data": {
      "text/plain": [
       "<tensorflow.python.keras.callbacks.History at 0x7f5d584ec210>"
      ]
     },
     "execution_count": 66,
     "metadata": {},
     "output_type": "execute_result"
    }
   ],
   "source": [
    "# import libraries\n",
    "from tensorflow.keras import Sequential\n",
    "from tensorflow.keras.layers import Dense\n",
    "# from tensorflow.keras.layers import Dropout\n",
    "# define model\n",
    "model = Sequential()\n",
    "model.add(Dense(10, activation='relu', kernel_initializer='he_normal', input_shape=(X_train.shape[1],)))\n",
    "model.add(Dense(8, activation='relu', kernel_initializer='he_normal'))\n",
    "model.add(Dense(1, activation='sigmoid'))\n",
    "# compile the model\n",
    "model.compile(optimizer='rmsprop', loss='binary_crossentropy', metrics=['accuracy'])\n",
    "# fit the model\n",
    "model.fit(X_train, y_train, validation_data=(X_test, y_test), epochs=100, batch_size=100)"
   ]
  },
  {
   "cell_type": "code",
   "execution_count": null,
   "metadata": {},
   "outputs": [],
   "source": []
  },
  {
   "cell_type": "code",
   "execution_count": 62,
   "metadata": {},
   "outputs": [],
   "source": [
    "# fit the model\n",
    "# %%time\n",
    "\n",
    "\n",
    "# plot learning curves\n",
    "# pyplot.title('Learning Curves')\n",
    "# pyplot.xlabel('Epoch')\n",
    "# pyplot.ylabel('Cross Entropy')\n",
    "# pyplot.plot(history.history['loss'], label='train')\n",
    "# pyplot.plot(history.history['val_loss'], label='val')\n",
    "# pyplot.legend()\n",
    "# pyplot.show()"
   ]
  },
  {
   "cell_type": "code",
   "execution_count": 67,
   "metadata": {},
   "outputs": [
    {
     "name": "stdout",
     "output_type": "stream",
     "text": [
      "112757/112757 [==============================] - 3s 27us/sample - loss: 0.2692 - accuracy: 0.8757\n",
      "Test Accuracy: 0.876\n"
     ]
    }
   ],
   "source": [
    "# evaluate the model\n",
    "loss, acc = model.evaluate(X_test, y_test)\n",
    "print('Test Accuracy: %.3f' % acc)"
   ]
  },
  {
   "cell_type": "code",
   "execution_count": 68,
   "metadata": {},
   "outputs": [
    {
     "name": "stdout",
     "output_type": "stream",
     "text": [
      "0.2692268277253427 0.875715\n"
     ]
    }
   ],
   "source": [
    "print(loss, acc)"
   ]
  },
  {
   "cell_type": "code",
   "execution_count": null,
   "metadata": {},
   "outputs": [],
   "source": []
  },
  {
   "cell_type": "code",
   "execution_count": 64,
   "metadata": {
    "scrolled": true
   },
   "outputs": [
    {
     "data": {
      "text/plain": [
       "array([[0.03479389]], dtype=float32)"
      ]
     },
     "execution_count": 64,
     "metadata": {},
     "output_type": "execute_result"
    }
   ],
   "source": [
    "model.predict_proba(([108,12, 5,9,0,2,57,1379,0,0],))"
   ]
  },
  {
   "cell_type": "code",
   "execution_count": 86,
   "metadata": {},
   "outputs": [
    {
     "data": {
      "text/plain": [
       "1"
      ]
     },
     "execution_count": 86,
     "metadata": {},
     "output_type": "execute_result"
    }
   ],
   "source": [
    "((model.predict_proba(([123, 7, 13,22,0,2,34,826,3,3],)))[0][0]>=0.5).astype('int')"
   ]
  },
  {
   "cell_type": "code",
   "execution_count": null,
   "metadata": {},
   "outputs": [],
   "source": []
  }
 ],
 "metadata": {
  "kernelspec": {
   "display_name": "Python 3",
   "language": "python",
   "name": "python3"
  },
  "language_info": {
   "codemirror_mode": {
    "name": "ipython",
    "version": 3
   },
   "file_extension": ".py",
   "mimetype": "text/x-python",
   "name": "python",
   "nbconvert_exporter": "python",
   "pygments_lexer": "ipython3",
   "version": "3.7.4"
  }
 },
 "nbformat": 4,
 "nbformat_minor": 2
}
